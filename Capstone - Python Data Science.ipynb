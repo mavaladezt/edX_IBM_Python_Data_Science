{
 "cells": [
  {
   "cell_type": "markdown",
   "metadata": {
    "collapsed": true
   },
   "source": [
    "## Problem Statement\n",
    "\n",
    "Analyze non-emergency 'Housing and Building' complaints reported to the 311 system in NY.<br>\n",
    "__(1) Determine which type of complaint is the most common.<br>\n",
    "(2) Where is this type of complaint more concentrated.<br>\n",
    "(3) Determine if there is an obvious house/building characteristic that can help predict this particular type of complaint.<br>\n",
    "(4) Build a model that can predict this type of complaints based on house/building characteristics.__"
   ]
  },
  {
   "cell_type": "markdown",
   "metadata": {},
   "source": [
    "### Datasets\n",
    "\n",
    "__311 complaint dataset__\n",
    "This dataset 'Department of Housing Preservation and Development' is available at https://data.cityofnewyork.us/Social-Services/311-Service-Requests-from-2010-to-Present/erm2-nwe9.\n",
    "\n",
    "__PLUTO - Primary Land Use Tax Lot Output__\n",
    "This dataset for housing can be accessed from https://data.cityofnewyork.us/City-Government/Primary-Land-Use-Tax-Lot-Output-PLUTO-/xuk2-nczf."
   ]
  },
  {
   "cell_type": "markdown",
   "metadata": {},
   "source": [
    "### (1) Most Common Type of Complaint"
   ]
  },
  {
   "cell_type": "code",
   "execution_count": 1,
   "metadata": {},
   "outputs": [],
   "source": [
    "import pandas as pd\n",
    "import numpy as np\n",
    "import matplotlib.pyplot as plt \n",
    "import time\n",
    "import seaborn as sns"
   ]
  },
  {
   "cell_type": "markdown",
   "metadata": {},
   "source": [
    "In case you don't want to download the file directly from the source, you can download mine here:\n",
    "https://www.dropbox.com/s/jaiysnr3vntizrs/fhrw-4uyv.csv?dl=0"
   ]
  },
  {
   "cell_type": "code",
   "execution_count": 2,
   "metadata": {},
   "outputs": [
    {
     "name": "stdout",
     "output_type": "stream",
     "text": [
      "Time loading: 18.717325925827026\n"
     ]
    }
   ],
   "source": [
    "#Loading file... as a reference it takes 21 seconds in my computer\n",
    "start=time.time()\n",
    "df=pd.read_csv('fhrw-4uyv.csv',parse_dates=True)\n",
    "print('Time loading:',time.time()-start)"
   ]
  },
  {
   "cell_type": "code",
   "execution_count": 3,
   "metadata": {},
   "outputs": [
    {
     "data": {
      "text/html": [
       "<div>\n",
       "<style scoped>\n",
       "    .dataframe tbody tr th:only-of-type {\n",
       "        vertical-align: middle;\n",
       "    }\n",
       "\n",
       "    .dataframe tbody tr th {\n",
       "        vertical-align: top;\n",
       "    }\n",
       "\n",
       "    .dataframe thead th {\n",
       "        text-align: right;\n",
       "    }\n",
       "</style>\n",
       "<table border=\"1\" class=\"dataframe\">\n",
       "  <thead>\n",
       "    <tr style=\"text-align: right;\">\n",
       "      <th></th>\n",
       "      <th>created_date</th>\n",
       "      <th>unique_key</th>\n",
       "      <th>complaint_type</th>\n",
       "      <th>incident_zip</th>\n",
       "      <th>incident_address</th>\n",
       "      <th>street_name</th>\n",
       "      <th>address_type</th>\n",
       "      <th>city</th>\n",
       "      <th>resolution_description</th>\n",
       "      <th>borough</th>\n",
       "      <th>latitude</th>\n",
       "      <th>longitude</th>\n",
       "      <th>closed_date</th>\n",
       "      <th>location_type</th>\n",
       "      <th>status</th>\n",
       "    </tr>\n",
       "  </thead>\n",
       "  <tbody>\n",
       "    <tr>\n",
       "      <th>0</th>\n",
       "      <td>2018-08-28T14:29:05.000</td>\n",
       "      <td>40125735</td>\n",
       "      <td>HPD Literature Request</td>\n",
       "      <td>NaN</td>\n",
       "      <td>NaN</td>\n",
       "      <td>NaN</td>\n",
       "      <td>NaN</td>\n",
       "      <td>NaN</td>\n",
       "      <td>The literature will be emailed within 24 hours...</td>\n",
       "      <td>Unspecified</td>\n",
       "      <td>NaN</td>\n",
       "      <td>NaN</td>\n",
       "      <td>2018-08-29T14:32:47.000</td>\n",
       "      <td>NaN</td>\n",
       "      <td>Closed</td>\n",
       "    </tr>\n",
       "    <tr>\n",
       "      <th>1</th>\n",
       "      <td>2019-03-29T13:39:15.000</td>\n",
       "      <td>42089776</td>\n",
       "      <td>PLUMBING</td>\n",
       "      <td>10030.0</td>\n",
       "      <td>2312 ADAM C POWELL BOULEVARD</td>\n",
       "      <td>ADAM C POWELL BOULEVARD</td>\n",
       "      <td>ADDRESS</td>\n",
       "      <td>NEW YORK</td>\n",
       "      <td>The Department of Housing Preservation and Dev...</td>\n",
       "      <td>MANHATTAN</td>\n",
       "      <td>40.815723</td>\n",
       "      <td>-73.943407</td>\n",
       "      <td>2019-04-04T12:44:34.000</td>\n",
       "      <td>RESIDENTIAL BUILDING</td>\n",
       "      <td>Closed</td>\n",
       "    </tr>\n",
       "    <tr>\n",
       "      <th>2</th>\n",
       "      <td>2019-03-29T12:39:24.000</td>\n",
       "      <td>42089777</td>\n",
       "      <td>DOOR/WINDOW</td>\n",
       "      <td>10021.0</td>\n",
       "      <td>1404 YORK AVENUE</td>\n",
       "      <td>YORK AVENUE</td>\n",
       "      <td>ADDRESS</td>\n",
       "      <td>NEW YORK</td>\n",
       "      <td>The Department of Housing Preservation and Dev...</td>\n",
       "      <td>MANHATTAN</td>\n",
       "      <td>40.768572</td>\n",
       "      <td>-73.952479</td>\n",
       "      <td>2019-04-04T21:04:49.000</td>\n",
       "      <td>RESIDENTIAL BUILDING</td>\n",
       "      <td>Closed</td>\n",
       "    </tr>\n",
       "    <tr>\n",
       "      <th>3</th>\n",
       "      <td>2019-03-29T08:52:02.000</td>\n",
       "      <td>42090351</td>\n",
       "      <td>HEAT/HOT WATER</td>\n",
       "      <td>10471.0</td>\n",
       "      <td>215 WEST  242 STREET</td>\n",
       "      <td>WEST  242 STREET</td>\n",
       "      <td>ADDRESS</td>\n",
       "      <td>BRONX</td>\n",
       "      <td>The complaint you filed is a duplicate of a co...</td>\n",
       "      <td>BRONX</td>\n",
       "      <td>40.889564</td>\n",
       "      <td>-73.899050</td>\n",
       "      <td>2019-04-01T02:07:40.000</td>\n",
       "      <td>RESIDENTIAL BUILDING</td>\n",
       "      <td>Closed</td>\n",
       "    </tr>\n",
       "    <tr>\n",
       "      <th>4</th>\n",
       "      <td>2019-02-05T08:20:59.000</td>\n",
       "      <td>41645420</td>\n",
       "      <td>APPLIANCE</td>\n",
       "      <td>10459.0</td>\n",
       "      <td>1211 SOUTHERN BOULEVARD</td>\n",
       "      <td>SOUTHERN BOULEVARD</td>\n",
       "      <td>ADDRESS</td>\n",
       "      <td>BRONX</td>\n",
       "      <td>The Department of Housing Preservation and Dev...</td>\n",
       "      <td>BRONX</td>\n",
       "      <td>40.828949</td>\n",
       "      <td>-73.891897</td>\n",
       "      <td>2019-03-29T10:46:40.000</td>\n",
       "      <td>RESIDENTIAL BUILDING</td>\n",
       "      <td>Closed</td>\n",
       "    </tr>\n",
       "  </tbody>\n",
       "</table>\n",
       "</div>"
      ],
      "text/plain": [
       "              created_date  unique_key          complaint_type  incident_zip  \\\n",
       "0  2018-08-28T14:29:05.000    40125735  HPD Literature Request           NaN   \n",
       "1  2019-03-29T13:39:15.000    42089776                PLUMBING       10030.0   \n",
       "2  2019-03-29T12:39:24.000    42089777             DOOR/WINDOW       10021.0   \n",
       "3  2019-03-29T08:52:02.000    42090351          HEAT/HOT WATER       10471.0   \n",
       "4  2019-02-05T08:20:59.000    41645420               APPLIANCE       10459.0   \n",
       "\n",
       "               incident_address              street_name address_type  \\\n",
       "0                           NaN                      NaN          NaN   \n",
       "1  2312 ADAM C POWELL BOULEVARD  ADAM C POWELL BOULEVARD      ADDRESS   \n",
       "2              1404 YORK AVENUE              YORK AVENUE      ADDRESS   \n",
       "3          215 WEST  242 STREET         WEST  242 STREET      ADDRESS   \n",
       "4       1211 SOUTHERN BOULEVARD       SOUTHERN BOULEVARD      ADDRESS   \n",
       "\n",
       "       city                             resolution_description      borough  \\\n",
       "0       NaN  The literature will be emailed within 24 hours...  Unspecified   \n",
       "1  NEW YORK  The Department of Housing Preservation and Dev...    MANHATTAN   \n",
       "2  NEW YORK  The Department of Housing Preservation and Dev...    MANHATTAN   \n",
       "3     BRONX  The complaint you filed is a duplicate of a co...        BRONX   \n",
       "4     BRONX  The Department of Housing Preservation and Dev...        BRONX   \n",
       "\n",
       "    latitude  longitude              closed_date         location_type  status  \n",
       "0        NaN        NaN  2018-08-29T14:32:47.000                   NaN  Closed  \n",
       "1  40.815723 -73.943407  2019-04-04T12:44:34.000  RESIDENTIAL BUILDING  Closed  \n",
       "2  40.768572 -73.952479  2019-04-04T21:04:49.000  RESIDENTIAL BUILDING  Closed  \n",
       "3  40.889564 -73.899050  2019-04-01T02:07:40.000  RESIDENTIAL BUILDING  Closed  \n",
       "4  40.828949 -73.891897  2019-03-29T10:46:40.000  RESIDENTIAL BUILDING  Closed  "
      ]
     },
     "execution_count": 3,
     "metadata": {},
     "output_type": "execute_result"
    }
   ],
   "source": [
    "df.head(5)"
   ]
  },
  {
   "cell_type": "markdown",
   "metadata": {},
   "source": [
    "#### Data Wrangling"
   ]
  },
  {
   "cell_type": "code",
   "execution_count": 4,
   "metadata": {},
   "outputs": [
    {
     "name": "stdout",
     "output_type": "stream",
     "text": [
      "Rows: 5805405 \tColumns:  15 \n",
      "\n",
      "created_date               object\n",
      "unique_key                  int64\n",
      "complaint_type             object\n",
      "incident_zip              float64\n",
      "incident_address           object\n",
      "street_name                object\n",
      "address_type               object\n",
      "city                       object\n",
      "resolution_description     object\n",
      "borough                    object\n",
      "latitude                  float64\n",
      "longitude                 float64\n",
      "closed_date                object\n",
      "location_type              object\n",
      "status                     object\n",
      "dtype: object\n"
     ]
    }
   ],
   "source": [
    "#Trying to understand the information...\n",
    "print ('Rows:',df.shape[0],'\\tColumns: ',df.shape[1],'\\n')\n",
    "print(df.dtypes)"
   ]
  },
  {
   "cell_type": "markdown",
   "metadata": {},
   "source": [
    "Need to change zipcode to string because I am going to use it as a label."
   ]
  },
  {
   "cell_type": "code",
   "execution_count": 5,
   "metadata": {},
   "outputs": [
    {
     "data": {
      "text/plain": [
       "created_date                   0\n",
       "unique_key                     0\n",
       "complaint_type                 0\n",
       "incident_zip               81944\n",
       "incident_address           54197\n",
       "street_name                54197\n",
       "address_type               79041\n",
       "city                       81543\n",
       "resolution_description      6066\n",
       "borough                        0\n",
       "latitude                   81918\n",
       "longitude                  81918\n",
       "closed_date               124742\n",
       "location_type              54196\n",
       "status                         0\n",
       "dtype: int64"
      ]
     },
     "execution_count": 5,
     "metadata": {},
     "output_type": "execute_result"
    }
   ],
   "source": [
    "df.isna().sum()"
   ]
  },
  {
   "cell_type": "markdown",
   "metadata": {},
   "source": [
    "Why are there are __'NaN'/null__ values in the address and zip?"
   ]
  },
  {
   "cell_type": "code",
   "execution_count": 6,
   "metadata": {},
   "outputs": [
    {
     "data": {
      "text/html": [
       "<div>\n",
       "<style scoped>\n",
       "    .dataframe tbody tr th:only-of-type {\n",
       "        vertical-align: middle;\n",
       "    }\n",
       "\n",
       "    .dataframe tbody tr th {\n",
       "        vertical-align: top;\n",
       "    }\n",
       "\n",
       "    .dataframe thead th {\n",
       "        text-align: right;\n",
       "    }\n",
       "</style>\n",
       "<table border=\"1\" class=\"dataframe\">\n",
       "  <thead>\n",
       "    <tr style=\"text-align: right;\">\n",
       "      <th></th>\n",
       "      <th>created_date</th>\n",
       "      <th>unique_key</th>\n",
       "      <th>complaint_type</th>\n",
       "      <th>incident_zip</th>\n",
       "      <th>incident_address</th>\n",
       "      <th>street_name</th>\n",
       "      <th>address_type</th>\n",
       "      <th>city</th>\n",
       "      <th>resolution_description</th>\n",
       "      <th>borough</th>\n",
       "      <th>latitude</th>\n",
       "      <th>longitude</th>\n",
       "      <th>closed_date</th>\n",
       "      <th>location_type</th>\n",
       "      <th>status</th>\n",
       "    </tr>\n",
       "  </thead>\n",
       "  <tbody>\n",
       "    <tr>\n",
       "      <th>0</th>\n",
       "      <td>2018-08-28T14:29:05.000</td>\n",
       "      <td>40125735</td>\n",
       "      <td>HPD Literature Request</td>\n",
       "      <td>NaN</td>\n",
       "      <td>NaN</td>\n",
       "      <td>NaN</td>\n",
       "      <td>NaN</td>\n",
       "      <td>NaN</td>\n",
       "      <td>The literature will be emailed within 24 hours...</td>\n",
       "      <td>Unspecified</td>\n",
       "      <td>NaN</td>\n",
       "      <td>NaN</td>\n",
       "      <td>2018-08-29T14:32:47.000</td>\n",
       "      <td>NaN</td>\n",
       "      <td>Closed</td>\n",
       "    </tr>\n",
       "    <tr>\n",
       "      <th>171</th>\n",
       "      <td>2018-12-19T17:20:35.000</td>\n",
       "      <td>41225860</td>\n",
       "      <td>HPD Literature Request</td>\n",
       "      <td>NaN</td>\n",
       "      <td>NaN</td>\n",
       "      <td>NaN</td>\n",
       "      <td>NaN</td>\n",
       "      <td>NaN</td>\n",
       "      <td>The appropriate agency will fulfill this liter...</td>\n",
       "      <td>Unspecified</td>\n",
       "      <td>NaN</td>\n",
       "      <td>NaN</td>\n",
       "      <td>NaN</td>\n",
       "      <td>NaN</td>\n",
       "      <td>Open</td>\n",
       "    </tr>\n",
       "    <tr>\n",
       "      <th>399</th>\n",
       "      <td>2018-12-19T12:39:47.000</td>\n",
       "      <td>41227022</td>\n",
       "      <td>HPD Literature Request</td>\n",
       "      <td>NaN</td>\n",
       "      <td>NaN</td>\n",
       "      <td>NaN</td>\n",
       "      <td>NaN</td>\n",
       "      <td>NaN</td>\n",
       "      <td>The literature will be emailed within 24 hours...</td>\n",
       "      <td>Unspecified</td>\n",
       "      <td>NaN</td>\n",
       "      <td>NaN</td>\n",
       "      <td>2018-12-20T12:42:08.000</td>\n",
       "      <td>NaN</td>\n",
       "      <td>Closed</td>\n",
       "    </tr>\n",
       "    <tr>\n",
       "      <th>488</th>\n",
       "      <td>2019-03-30T00:27:44.000</td>\n",
       "      <td>42085882</td>\n",
       "      <td>HPD Literature Request</td>\n",
       "      <td>NaN</td>\n",
       "      <td>NaN</td>\n",
       "      <td>NaN</td>\n",
       "      <td>NaN</td>\n",
       "      <td>NaN</td>\n",
       "      <td>The appropriate agency will fulfill this liter...</td>\n",
       "      <td>Unspecified</td>\n",
       "      <td>NaN</td>\n",
       "      <td>NaN</td>\n",
       "      <td>NaN</td>\n",
       "      <td>NaN</td>\n",
       "      <td>Open</td>\n",
       "    </tr>\n",
       "    <tr>\n",
       "      <th>525</th>\n",
       "      <td>2018-08-29T11:57:27.000</td>\n",
       "      <td>40137418</td>\n",
       "      <td>HPD Literature Request</td>\n",
       "      <td>NaN</td>\n",
       "      <td>NaN</td>\n",
       "      <td>NaN</td>\n",
       "      <td>NaN</td>\n",
       "      <td>NaN</td>\n",
       "      <td>The literature has been mailed. If it has not ...</td>\n",
       "      <td>Unspecified</td>\n",
       "      <td>NaN</td>\n",
       "      <td>NaN</td>\n",
       "      <td>2018-08-29T14:14:20.000</td>\n",
       "      <td>NaN</td>\n",
       "      <td>Closed</td>\n",
       "    </tr>\n",
       "  </tbody>\n",
       "</table>\n",
       "</div>"
      ],
      "text/plain": [
       "                created_date  unique_key          complaint_type  \\\n",
       "0    2018-08-28T14:29:05.000    40125735  HPD Literature Request   \n",
       "171  2018-12-19T17:20:35.000    41225860  HPD Literature Request   \n",
       "399  2018-12-19T12:39:47.000    41227022  HPD Literature Request   \n",
       "488  2019-03-30T00:27:44.000    42085882  HPD Literature Request   \n",
       "525  2018-08-29T11:57:27.000    40137418  HPD Literature Request   \n",
       "\n",
       "     incident_zip incident_address street_name address_type city  \\\n",
       "0             NaN              NaN         NaN          NaN  NaN   \n",
       "171           NaN              NaN         NaN          NaN  NaN   \n",
       "399           NaN              NaN         NaN          NaN  NaN   \n",
       "488           NaN              NaN         NaN          NaN  NaN   \n",
       "525           NaN              NaN         NaN          NaN  NaN   \n",
       "\n",
       "                                resolution_description      borough  latitude  \\\n",
       "0    The literature will be emailed within 24 hours...  Unspecified       NaN   \n",
       "171  The appropriate agency will fulfill this liter...  Unspecified       NaN   \n",
       "399  The literature will be emailed within 24 hours...  Unspecified       NaN   \n",
       "488  The appropriate agency will fulfill this liter...  Unspecified       NaN   \n",
       "525  The literature has been mailed. If it has not ...  Unspecified       NaN   \n",
       "\n",
       "     longitude              closed_date location_type  status  \n",
       "0          NaN  2018-08-29T14:32:47.000           NaN  Closed  \n",
       "171        NaN                      NaN           NaN    Open  \n",
       "399        NaN  2018-12-20T12:42:08.000           NaN  Closed  \n",
       "488        NaN                      NaN           NaN    Open  \n",
       "525        NaN  2018-08-29T14:14:20.000           NaN  Closed  "
      ]
     },
     "execution_count": 6,
     "metadata": {},
     "output_type": "execute_result"
    }
   ],
   "source": [
    "df[df['incident_address'].isnull()].head(5)"
   ]
  },
  {
   "cell_type": "markdown",
   "metadata": {},
   "source": [
    "Most of the complaints with NaN values in the incident_address field are related to documentation ('literature request') so I am going to eliminate them because they are not really a complaint. I guess users called to require some information or documentation.<br>\n",
    "Also since the we will be analyzing complaints related to house/building characteristics we need an address."
   ]
  },
  {
   "cell_type": "code",
   "execution_count": 7,
   "metadata": {},
   "outputs": [
    {
     "name": "stdout",
     "output_type": "stream",
     "text": [
      "Rows before:  5805405\n",
      "Rows after eliminating NaNs:  5723461\n"
     ]
    },
    {
     "data": {
      "text/plain": [
       "created_date                   0\n",
       "unique_key                     0\n",
       "complaint_type                 0\n",
       "incident_zip                   0\n",
       "incident_address               0\n",
       "street_name                    0\n",
       "address_type                   0\n",
       "city                           0\n",
       "resolution_description       591\n",
       "borough                        0\n",
       "latitude                       0\n",
       "longitude                      0\n",
       "closed_date               121869\n",
       "location_type                  0\n",
       "status                         0\n",
       "dtype: int64"
      ]
     },
     "execution_count": 7,
     "metadata": {},
     "output_type": "execute_result"
    }
   ],
   "source": [
    "print('Rows before: ',df.shape[0])\n",
    "df.dropna(subset = ['incident_address','incident_zip'], inplace=True)\n",
    "print('Rows after eliminating NaNs: ',df.shape[0])\n",
    "df.isna().sum()"
   ]
  },
  {
   "cell_type": "markdown",
   "metadata": {},
   "source": [
    "We __dropped 82k rows from 6 million.__<br>\n",
    "Now, the only rows with NaNs (empty values) are because they have an 'open' status or don't have a resolution_description. __It is ok.__"
   ]
  },
  {
   "cell_type": "code",
   "execution_count": 8,
   "metadata": {},
   "outputs": [
    {
     "name": "stdout",
     "output_type": "stream",
     "text": [
      "<class 'pandas.core.frame.DataFrame'>\n",
      "Int64Index: 5723461 entries, 1 to 5805404\n",
      "Data columns (total 15 columns):\n",
      "created_date              object\n",
      "unique_key                int64\n",
      "complaint_type            object\n",
      "incident_zip              object\n",
      "incident_address          object\n",
      "street_name               object\n",
      "address_type              object\n",
      "city                      object\n",
      "resolution_description    object\n",
      "borough                   object\n",
      "latitude                  float64\n",
      "longitude                 float64\n",
      "closed_date               object\n",
      "location_type             object\n",
      "status                    object\n",
      "dtypes: float64(2), int64(1), object(12)\n",
      "memory usage: 698.7+ MB\n"
     ]
    }
   ],
   "source": [
    "#changing zipcodes to text in 2 steps (first to integer to remove 0's, then to string)\n",
    "df.incident_zip=df.incident_zip.astype('int')\n",
    "df.incident_zip=df.incident_zip.astype('str')\n",
    "df.info()"
   ]
  },
  {
   "cell_type": "markdown",
   "metadata": {},
   "source": [
    "Now lets remove the double spaces and tabs from the incident_address and street_name fields."
   ]
  },
  {
   "cell_type": "code",
   "execution_count": 9,
   "metadata": {},
   "outputs": [
    {
     "name": "stdout",
     "output_type": "stream",
     "text": [
      "incident_address:  175075 - 161622 = 13453\n",
      "street_name:  6480 - 5809 = 671\n"
     ]
    }
   ],
   "source": [
    "#remove spaces and tabs from incident_address. Displaying amount of deleted/remaining rows\n",
    "before_incident=df['incident_address'].nunique()\n",
    "before_street_name=df['street_name'].nunique()\n",
    "df.incident_address = df.incident_address.replace('\\s+', ' ', regex=True) \n",
    "df.incident_address = df.incident_address.str.strip()\n",
    "df.street_name = df.street_name.replace('\\s+', ' ', regex=True) \n",
    "df.street_name = df.street_name.str.strip()\n",
    "print('incident_address: ',before_incident,'-',df['incident_address'].nunique(),'=',before_incident-df['incident_address'].nunique())\n",
    "print('street_name: ',before_street_name,'-',df['street_name'].nunique(),'=',before_street_name-df['street_name'].nunique())"
   ]
  },
  {
   "cell_type": "markdown",
   "metadata": {},
   "source": [
    "I will also be abbreviating some of the most common words in the street names that can help me keep everything standardized.<br>\n",
    "__This process helped me match around 40k more addresses later with the PLUTO dataframe.__"
   ]
  },
  {
   "cell_type": "code",
   "execution_count": 10,
   "metadata": {},
   "outputs": [],
   "source": [
    "#will be substituting Avenue for Ave, Street for St, Place for Pl, Road for Rd and Boulevard for Blvd\n",
    "df.incident_address = df.incident_address.str.replace('AVENUE','AVE')\n",
    "df.incident_address = df.incident_address.str.replace('STREET','ST')\n",
    "df.incident_address = df.incident_address.str.replace('PLACE','PL')\n",
    "df.incident_address = df.incident_address.str.replace('ROAD','RD')\n",
    "df.incident_address = df.incident_address.str.replace('BOULEVARD','BLVD')\n",
    "#will be substituting East for E, West for W, North for N and South for S. This changes will happen\n",
    "#   only if it is a separate word or if the address ends with it.\n",
    "# Example: 'Central Park West' will change to 'Central Park W' but if the name of the street is\n",
    "#   'Northeast Street' it will not change to 'NE Street'\n",
    "df.incident_address = df.incident_address.str.replace(' EAST ',' E ')\n",
    "df.incident_address = df.incident_address.str.replace(' EAST',' E')\n",
    "df.incident_address = df.incident_address.str.replace(' WEST ',' W ')\n",
    "df.incident_address = df.incident_address.str.replace(' WEST',' W')\n",
    "df.incident_address = df.incident_address.str.replace(' NORTH ',' N ')\n",
    "df.incident_address = df.incident_address.str.replace(' NORTH',' N')\n",
    "df.incident_address = df.incident_address.str.replace(' SOUTH ',' S ')\n",
    "df.incident_address = df.incident_address.str.replace(' SOUTH',' S')"
   ]
  },
  {
   "cell_type": "markdown",
   "metadata": {},
   "source": [
    "Now, lets analyze the complaint types"
   ]
  },
  {
   "cell_type": "code",
   "execution_count": 11,
   "metadata": {},
   "outputs": [
    {
     "name": "stdout",
     "output_type": "stream",
     "text": [
      "['PLUMBING' 'DOOR/WINDOW' 'HEAT/HOT WATER' 'APPLIANCE' 'ELECTRIC'\n",
      " 'FLOORING/STAIRS' 'UNSANITARY CONDITION' 'PAINT/PLASTER' 'GENERAL'\n",
      " 'WATER LEAK' 'SAFETY' 'OUTSIDE BUILDING' 'ELEVATOR' 'HEATING'\n",
      " 'PAINT - PLASTER' 'GENERAL CONSTRUCTION' 'NONCONST' 'CONSTRUCTION'\n",
      " 'STRUCTURAL' 'VACANT APARTMENT' 'AGENCY']\n",
      "\n",
      "Total:  21\n"
     ]
    }
   ],
   "source": [
    "#some complaint types look like the same\n",
    "print(df['complaint_type'].unique())\n",
    "print('\\nTotal: ',df['complaint_type'].nunique())"
   ]
  },
  {
   "cell_type": "markdown",
   "metadata": {},
   "source": [
    "Some complaints like 'paint/plaster' and 'paint - plaster' are evidently the same. Also, 'construction' and 'general construction' and 'general' can be classified the same.<br>\n",
    "Other, such as 'Heating' and 'Heat/Hot Water' look like the same but we need to review them with more detail. "
   ]
  },
  {
   "cell_type": "code",
   "execution_count": 12,
   "metadata": {},
   "outputs": [
    {
     "name": "stdout",
     "output_type": "stream",
     "text": [
      "HEATING:  2010-01-01T00:00:00.000  --->  2014-03-10T00:00:00.000\n",
      "HEAT/HOT WATER:  2014-03-11T00:00:00.000  --->  2019-06-21T22:51:54.000\n"
     ]
    }
   ],
   "source": [
    "print('HEATING: ',df.created_date[df.complaint_type== 'HEATING'].min(),' ---> ',df.created_date[df.complaint_type== 'HEATING'].max())\n",
    "print('HEAT/HOT WATER: ',df.created_date[df.complaint_type== 'HEAT/HOT WATER'].min(),' ---> ',df.created_date[df.complaint_type== 'HEAT/HOT WATER'].max())"
   ]
  },
  {
   "cell_type": "markdown",
   "metadata": {},
   "source": [
    "__It looks like 'Heating' and 'Heat/Hot Water' are the same, they just started using the new name in March 2014.__"
   ]
  },
  {
   "cell_type": "code",
   "execution_count": 13,
   "metadata": {},
   "outputs": [
    {
     "name": "stdout",
     "output_type": "stream",
     "text": [
      "['PLUMBING' 'DOOR/WINDOW' 'HEATING' 'APPLIANCE' 'ELECTRIC'\n",
      " 'FLOORING/STAIRS' 'UNSANITARY CONDITION' 'PAINT/PLASTER' 'CONSTRUCTION'\n",
      " 'WATER LEAK' 'SAFETY' 'OUTSIDE BUILDING' 'ELEVATOR' 'NONCONST'\n",
      " 'STRUCTURAL' 'VACANT APARTMENT' 'AGENCY']\n",
      "Total:  17\n"
     ]
    }
   ],
   "source": [
    "#consolidating the complaint types mentioned above\n",
    "df['complaint_type'].replace('HEAT/HOT WATER','HEATING',inplace=True)\n",
    "df['complaint_type'].replace('PAINT - PLASTER','PAINT/PLASTER',inplace=True)\n",
    "df['complaint_type'].replace('GENERAL CONSTRUCTION','CONSTRUCTION',inplace=True)\n",
    "df['complaint_type'].replace('GENERAL','CONSTRUCTION',inplace=True)\n",
    "print(df['complaint_type'].unique())\n",
    "print('Total: ',df['complaint_type'].nunique())"
   ]
  },
  {
   "cell_type": "code",
   "execution_count": 14,
   "metadata": {},
   "outputs": [
    {
     "data": {
      "text/html": [
       "<div>\n",
       "<style scoped>\n",
       "    .dataframe tbody tr th:only-of-type {\n",
       "        vertical-align: middle;\n",
       "    }\n",
       "\n",
       "    .dataframe tbody tr th {\n",
       "        vertical-align: top;\n",
       "    }\n",
       "\n",
       "    .dataframe thead th {\n",
       "        text-align: right;\n",
       "    }\n",
       "</style>\n",
       "<table border=\"1\" class=\"dataframe\">\n",
       "  <thead>\n",
       "    <tr style=\"text-align: right;\">\n",
       "      <th></th>\n",
       "      <th>complaint</th>\n",
       "      <th>total</th>\n",
       "    </tr>\n",
       "  </thead>\n",
       "  <tbody>\n",
       "    <tr>\n",
       "      <th>0</th>\n",
       "      <td>HEATING</td>\n",
       "      <td>2014528</td>\n",
       "    </tr>\n",
       "    <tr>\n",
       "      <th>1</th>\n",
       "      <td>PAINT/PLASTER</td>\n",
       "      <td>696919</td>\n",
       "    </tr>\n",
       "    <tr>\n",
       "      <th>2</th>\n",
       "      <td>PLUMBING</td>\n",
       "      <td>695689</td>\n",
       "    </tr>\n",
       "    <tr>\n",
       "      <th>3</th>\n",
       "      <td>CONSTRUCTION</td>\n",
       "      <td>647221</td>\n",
       "    </tr>\n",
       "    <tr>\n",
       "      <th>4</th>\n",
       "      <td>UNSANITARY CONDITION</td>\n",
       "      <td>425585</td>\n",
       "    </tr>\n",
       "    <tr>\n",
       "      <th>5</th>\n",
       "      <td>ELECTRIC</td>\n",
       "      <td>299491</td>\n",
       "    </tr>\n",
       "    <tr>\n",
       "      <th>6</th>\n",
       "      <td>NONCONST</td>\n",
       "      <td>259999</td>\n",
       "    </tr>\n",
       "    <tr>\n",
       "      <th>7</th>\n",
       "      <td>DOOR/WINDOW</td>\n",
       "      <td>196673</td>\n",
       "    </tr>\n",
       "    <tr>\n",
       "      <th>8</th>\n",
       "      <td>WATER LEAK</td>\n",
       "      <td>183548</td>\n",
       "    </tr>\n",
       "    <tr>\n",
       "      <th>9</th>\n",
       "      <td>FLOORING/STAIRS</td>\n",
       "      <td>133763</td>\n",
       "    </tr>\n",
       "    <tr>\n",
       "      <th>10</th>\n",
       "      <td>APPLIANCE</td>\n",
       "      <td>107843</td>\n",
       "    </tr>\n",
       "    <tr>\n",
       "      <th>11</th>\n",
       "      <td>SAFETY</td>\n",
       "      <td>49014</td>\n",
       "    </tr>\n",
       "    <tr>\n",
       "      <th>12</th>\n",
       "      <td>OUTSIDE BUILDING</td>\n",
       "      <td>6927</td>\n",
       "    </tr>\n",
       "    <tr>\n",
       "      <th>13</th>\n",
       "      <td>ELEVATOR</td>\n",
       "      <td>6229</td>\n",
       "    </tr>\n",
       "    <tr>\n",
       "      <th>14</th>\n",
       "      <td>STRUCTURAL</td>\n",
       "      <td>16</td>\n",
       "    </tr>\n",
       "    <tr>\n",
       "      <th>15</th>\n",
       "      <td>AGENCY</td>\n",
       "      <td>8</td>\n",
       "    </tr>\n",
       "    <tr>\n",
       "      <th>16</th>\n",
       "      <td>VACANT APARTMENT</td>\n",
       "      <td>8</td>\n",
       "    </tr>\n",
       "  </tbody>\n",
       "</table>\n",
       "</div>"
      ],
      "text/plain": [
       "               complaint    total\n",
       "0                HEATING  2014528\n",
       "1          PAINT/PLASTER   696919\n",
       "2               PLUMBING   695689\n",
       "3           CONSTRUCTION   647221\n",
       "4   UNSANITARY CONDITION   425585\n",
       "5               ELECTRIC   299491\n",
       "6               NONCONST   259999\n",
       "7            DOOR/WINDOW   196673\n",
       "8             WATER LEAK   183548\n",
       "9        FLOORING/STAIRS   133763\n",
       "10             APPLIANCE   107843\n",
       "11                SAFETY    49014\n",
       "12      OUTSIDE BUILDING     6927\n",
       "13              ELEVATOR     6229\n",
       "14            STRUCTURAL       16\n",
       "15                AGENCY        8\n",
       "16      VACANT APARTMENT        8"
      ]
     },
     "execution_count": 14,
     "metadata": {},
     "output_type": "execute_result"
    }
   ],
   "source": [
    "#making a group to visualize it better\n",
    "df_grp_complaint=df.complaint_type.value_counts().to_frame()\n",
    "df_grp_complaint.reset_index(drop=False,inplace=True) #resetting the index\n",
    "df_grp_complaint.rename(columns={'complaint_type':'total','index':'complaint'},inplace=True) #renaming the columns\n",
    "df_grp_complaint"
   ]
  },
  {
   "cell_type": "code",
   "execution_count": 15,
   "metadata": {},
   "outputs": [
    {
     "data": {
      "text/plain": [
       "Text(0.5, 1.0, 'Complaints by Type')"
      ]
     },
     "execution_count": 15,
     "metadata": {},
     "output_type": "execute_result"
    },
    {
     "data": {
      "image/png": "[encoded data removed]",
      "text/plain": [
       "<Figure size 432x288 with 1 Axes>"
      ]
     },
     "metadata": {},
     "output_type": "display_data"
    }
   ],
   "source": [
    "import seaborn as sns\n",
    "sns.set(font_scale=.8)\n",
    "sns.barplot(x='total',y='complaint',data=df_grp_complaint).set_title('Complaints by Type')"
   ]
  },
  {
   "cell_type": "code",
   "execution_count": 16,
   "metadata": {},
   "outputs": [
    {
     "name": "stdout",
     "output_type": "stream",
     "text": [
      "Heating complaints: 2014528\n",
      "Heating complaints as percentage: 35 %\n"
     ]
    }
   ],
   "source": [
    "print('Heating complaints:',df_grp_complaint.total[df_grp_complaint.complaint == 'HEATING'][0])\n",
    "print('Heating complaints as percentage:',int(100*df_grp_complaint.total[df_grp_complaint.complaint == 'HEATING'][0] /df_grp_complaint['total'].sum()),'%')"
   ]
  },
  {
   "cell_type": "markdown",
   "metadata": {},
   "source": [
    "#### Conclusion: The most common type of complaint is 'Heating'. It has more than 35% of the total complaints and it has more than double than the next complaint: Paint/Plaster."
   ]
  },
  {
   "cell_type": "markdown",
   "metadata": {
    "collapsed": true
   },
   "source": [
    "### (2) Where is this type of complaint more concentrated.\n",
    "\n",
    "__I will focus in Heating type.__"
   ]
  },
  {
   "cell_type": "markdown",
   "metadata": {},
   "source": [
    "First, analyzing the information by borough."
   ]
  },
  {
   "cell_type": "code",
   "execution_count": 17,
   "metadata": {},
   "outputs": [
    {
     "data": {
      "text/plain": [
       "Index(['created_date', 'unique_key', 'complaint_type', 'incident_zip',\n",
       "       'incident_address', 'street_name', 'address_type', 'city',\n",
       "       'resolution_description', 'borough', 'latitude', 'longitude',\n",
       "       'closed_date', 'location_type', 'status'],\n",
       "      dtype='object')"
      ]
     },
     "execution_count": 17,
     "metadata": {},
     "output_type": "execute_result"
    }
   ],
   "source": [
    "df.columns"
   ]
  },
  {
   "cell_type": "code",
   "execution_count": 18,
   "metadata": {},
   "outputs": [
    {
     "data": {
      "text/plain": [
       "BROOKLYN         1664999\n",
       "BRONX            1539546\n",
       "MANHATTAN        1002197\n",
       "Unspecified       819798\n",
       "QUEENS            612945\n",
       "STATEN ISLAND      83976\n",
       "Name: borough, dtype: int64"
      ]
     },
     "execution_count": 18,
     "metadata": {},
     "output_type": "execute_result"
    }
   ],
   "source": [
    "df.drop(['unique_key'], axis=1, inplace=True) #deleting column I won't be needing\n",
    "df.borough.value_counts()"
   ]
  },
  {
   "cell_type": "markdown",
   "metadata": {},
   "source": [
    "With the previous table I realized that there are a lot of boroughs with the label \"Unspecified\".<br>\n",
    "To change this, I will be creating a catalog with valid zipcodes-boroughs from the same dataset to see if I can remove some of the 'Unspecified' ones."
   ]
  },
  {
   "cell_type": "code",
   "execution_count": 19,
   "metadata": {},
   "outputs": [
    {
     "name": "stdout",
     "output_type": "stream",
     "text": [
      "Size catalog : 203\n",
      "Different rows:  201\n"
     ]
    }
   ],
   "source": [
    "df_zip=df[['borough','incident_zip']].copy() #1st create new dataframe with 2 columns\n",
    "df_zip = df_zip[df.borough != 'Unspecified'] #removing all the Unspecified boroughs\n",
    "df_zip['count']=1 #adding a column with 1's so I can sum/count them\n",
    "df_zip=df_zip.groupby(['incident_zip','borough'], as_index=False, sort=True, group_keys=True).sum() #grouping\n",
    "print('Size catalog :',df_zip.shape[0])\n",
    "print('Different rows: ',df_zip.incident_zip.nunique())"
   ]
  },
  {
   "cell_type": "markdown",
   "metadata": {},
   "source": [
    "There are duplicates in my catalog, I will be removing the duplicated ones but I will keep the one with more 'hits'."
   ]
  },
  {
   "cell_type": "code",
   "execution_count": 20,
   "metadata": {},
   "outputs": [],
   "source": [
    "df_zip.sort_values('count', ascending=False, inplace=True)  #sorting list by 'hits'\n",
    "df_zip.reset_index(drop=True,inplace=True)\n",
    "df_zip.drop_duplicates(subset ='incident_zip', keep='first', inplace=True) #keeping the first"
   ]
  },
  {
   "cell_type": "code",
   "execution_count": 21,
   "metadata": {},
   "outputs": [
    {
     "name": "stdout",
     "output_type": "stream",
     "text": [
      "Size catalog : 201\n",
      "Different rows:  201\n"
     ]
    }
   ],
   "source": [
    "print('Size catalog :',df_zip.shape[0])\n",
    "print('Different rows: ',df_zip.incident_zip.nunique())"
   ]
  },
  {
   "cell_type": "code",
   "execution_count": 22,
   "metadata": {},
   "outputs": [],
   "source": [
    "#with this dataframe I will be making a dictionary\n",
    "df_zip.drop(['count'], axis=1, inplace=True)\n",
    "df_zip.set_index('incident_zip',inplace=True)\n",
    "dict_zips=df_zip.to_dict()\n",
    "dict_zips=dict_zips['borough']"
   ]
  },
  {
   "cell_type": "code",
   "execution_count": 23,
   "metadata": {},
   "outputs": [],
   "source": [
    "#will make a new_borough column with borough name, if its 'Unspecified' i will instead put the zipcode\n",
    "list_zip=list(df['incident_zip'])\n",
    "list_borough=list(df['borough'])\n",
    "i=0\n",
    "for i in range(len(list_borough)):\n",
    "    if list_borough[i]=='Unspecified':\n",
    "        list_borough[i]=list_zip[i]\n",
    "df['new_borough']=list_borough"
   ]
  },
  {
   "cell_type": "code",
   "execution_count": 24,
   "metadata": {},
   "outputs": [
    {
     "data": {
      "text/plain": [
       "BROOKLYN         1664999\n",
       "BRONX            1539546\n",
       "MANHATTAN        1002197\n",
       "QUEENS            612945\n",
       "STATEN ISLAND      83976\n",
       "11226              31946\n",
       "10467              23026\n",
       "10453              22747\n",
       "10458              22664\n",
       "10457              21276\n",
       "Name: new_borough, dtype: int64"
      ]
     },
     "execution_count": 24,
     "metadata": {},
     "output_type": "execute_result"
    }
   ],
   "source": [
    "#printing just the first 10 to make sure the process worked\n",
    "df.new_borough.value_counts().head(10)"
   ]
  },
  {
   "cell_type": "code",
   "execution_count": 25,
   "metadata": {},
   "outputs": [
    {
     "data": {
      "text/plain": [
       "BROOKLYN         1960317\n",
       "BRONX            1791542\n",
       "MANHATTAN        1155921\n",
       "QUEENS            717338\n",
       "STATEN ISLAND      98342\n",
       "Name: new_borough, dtype: int64"
      ]
     },
     "execution_count": 25,
     "metadata": {},
     "output_type": "execute_result"
    }
   ],
   "source": [
    "# substitute the 'Unspecified' rows with data from dictionary\n",
    "list_borough=list(df['new_borough'])\n",
    "list_new_borough=list()\n",
    "for x in list_borough:\n",
    "    try:\n",
    "        if x not in ('BRONX', 'BROOKLYN', 'MANHATTAN', 'QUEENS', 'STATEN ISLAND'):\n",
    "            list_new_borough.append(dict_zips[x])\n",
    "        else:\n",
    "            list_new_borough.append(x)\n",
    "    except:\n",
    "        list_new_borough.append(np.NaN)\n",
    "df['new_borough']=list_new_borough\n",
    "df.new_borough.value_counts()"
   ]
  },
  {
   "cell_type": "markdown",
   "metadata": {},
   "source": [
    "__No more 'Unspecified' boroughs anymore.__"
   ]
  },
  {
   "cell_type": "code",
   "execution_count": 26,
   "metadata": {},
   "outputs": [
    {
     "data": {
      "text/plain": [
       "Index(['index', 'new_borough'], dtype='object')"
      ]
     },
     "execution_count": 26,
     "metadata": {},
     "output_type": "execute_result"
    }
   ],
   "source": [
    "#Lets process only the Heating type of complaints\n",
    "df_heat=df[df.complaint_type == 'HEATING']\n",
    "df_grp_borough_heat=df_heat.new_borough.value_counts().to_frame()  #making a dataframe with value_counts\n",
    "df_grp_borough_heat.reset_index(drop=False,inplace=True)\n",
    "df_grp_borough_heat.columns"
   ]
  },
  {
   "cell_type": "code",
   "execution_count": 27,
   "metadata": {},
   "outputs": [
    {
     "data": {
      "text/plain": [
       "Text(0.5, 1.0, 'Heating Complaints by Borough')"
      ]
     },
     "execution_count": 27,
     "metadata": {},
     "output_type": "execute_result"
    },
    {
     "data": {
      "image/png": "[encoded data removed]",
      "text/plain": [
       "<Figure size 432x288 with 1 Axes>"
      ]
     },
     "metadata": {},
     "output_type": "display_data"
    }
   ],
   "source": [
    "#renaming the grouped dataframe\n",
    "df_grp_borough_heat.rename(columns={'new_borough':'total','index':'borough'},inplace=True)\n",
    "#making graph\n",
    "sns.set(font_scale=0.8)\n",
    "sns.barplot(x='total', y='borough', data=df_grp_borough_heat).set_title('Heating Complaints by Borough')"
   ]
  },
  {
   "cell_type": "markdown",
   "metadata": {},
   "source": [
    "__Most of the 'Heating' complaints come from the Bronx, Brooklyn and Manhattan.__"
   ]
  },
  {
   "cell_type": "code",
   "execution_count": 28,
   "metadata": {},
   "outputs": [
    {
     "name": "stderr",
     "output_type": "stream",
     "text": [
      "//anaconda3/lib/python3.7/site-packages/ipykernel_launcher.py:3: UserWarning: Boolean Series key will be reindexed to match DataFrame index.\n",
      "  This is separate from the ipykernel package so we can avoid doing imports until\n"
     ]
    },
    {
     "data": {
      "text/plain": [
       "Text(0.5, 1.0, 'Heating Complaints by Borough')"
      ]
     },
     "execution_count": 28,
     "metadata": {},
     "output_type": "execute_result"
    },
    {
     "data": {
      "image/png": "[encoded data removed]",
      "text/plain": [
       "<Figure size 432x288 with 1 Axes>"
      ]
     },
     "metadata": {},
     "output_type": "display_data"
    }
   ],
   "source": [
    "#now doing the same but only for the ones with an 'Open' status\n",
    "df_heat_open=df[df.complaint_type == 'HEATING']\n",
    "df_heat_open=df_heat_open[df.status == 'Open']\n",
    "df_grp_borough_heat=df_heat_open.new_borough.value_counts().to_frame()\n",
    "df_grp_borough_heat.reset_index(drop=False,inplace=True)\n",
    "df_grp_borough_heat.rename(columns={'new_borough':'total','index':'borough'},inplace=True)\n",
    "sns.set(font_scale=0.8)\n",
    "sns.barplot(x='total', y='borough', data=df_grp_borough_heat).set_title('Heating Complaints by Borough')"
   ]
  },
  {
   "cell_type": "markdown",
   "metadata": {},
   "source": [
    "__Information changed drastically. Complaints with the open status are more concentrated in Manhattan, Brooklyn and Queens. Bronx this time came in 4th place. Staten Island didn't changed its 5th place.__"
   ]
  },
  {
   "cell_type": "code",
   "execution_count": 29,
   "metadata": {},
   "outputs": [
    {
     "data": {
      "image/png": "[encoded data removed]",
      "text/plain": [
       "<Figure size 432x288 with 1 Axes>"
      ]
     },
     "metadata": {},
     "output_type": "display_data"
    }
   ],
   "source": [
    "#now by zip codes-only opened ones\n",
    "#df_heat_open=df[df.complaint_type == 'HEATING']\n",
    "#df_heat_open=df_heat_open[df.status == 'Open']\n",
    "#not a lot of information. lets try it by zip code\n",
    "df_grp_zip_heat=df_heat_open.incident_zip.value_counts().to_frame()\n",
    "df_grp_zip_heat.reset_index(drop=False,inplace=True)\n",
    "df_grp_zip_heat.rename(columns={'index':'zipcode','incident_zip':'total'},inplace=True)\n",
    "df_grp_zip_heat['zipcode'] = df_grp_zip_heat['zipcode'].apply(str)\n",
    "df_grp_zip_heat=df_grp_zip_heat.head(20).copy()\n",
    "\n",
    "df_grp_zip_heat.sort_values('total', ascending=True, inplace=True)\n",
    "w=list(df_grp_zip_heat['zipcode'])\n",
    "n=list(df_grp_zip_heat['total'])\n",
    "plt.barh(range(len(w)),n)\n",
    "plt.yticks(range(len(w)),w)\n",
    "plt.show()"
   ]
  },
  {
   "cell_type": "markdown",
   "metadata": {},
   "source": [
    "__Most of the complaints happen in zipcode 10031.__"
   ]
  },
  {
   "cell_type": "code",
   "execution_count": 30,
   "metadata": {},
   "outputs": [
    {
     "name": "stderr",
     "output_type": "stream",
     "text": [
      "//anaconda3/lib/python3.7/site-packages/ipykernel_launcher.py:4: UserWarning: Boolean Series key will be reindexed to match DataFrame index.\n",
      "  after removing the cwd from sys.path.\n"
     ]
    },
    {
     "data": {
      "text/plain": [
       "Text(0.5, 1.0, 'Heating Complaints by Street Name (Open Status)')"
      ]
     },
     "execution_count": 30,
     "metadata": {},
     "output_type": "execute_result"
    },
    {
     "data": {
      "image/png": "[encoded data removed]",
      "text/plain": [
       "<Figure size 432x288 with 1 Axes>"
      ]
     },
     "metadata": {},
     "output_type": "display_data"
    }
   ],
   "source": [
    "#By street name, only including complaints with 'open' status\n",
    "df.street_name.value_counts()\n",
    "df_heat=df[df.complaint_type == 'HEATING']\n",
    "df_heat=df_heat[df.status == 'Open']\n",
    "\n",
    "df_grp_street=df_heat.street_name.value_counts().to_frame()\n",
    "\n",
    "df_grp_street.reset_index(drop=False,inplace=True)\n",
    "df_grp_street.columns\n",
    "\n",
    "df_grp_street.rename(columns={'street_name':'total','index':'street'},inplace=True)\n",
    "df_grp_street\n",
    "\n",
    "df_grp_street=df_grp_street.head(20)\n",
    "#import seaborn as sns\n",
    "sns.set(font_scale=0.8)\n",
    "sns.barplot(x='total', y='street', data=df_grp_street).set_title('Heating Complaints by Street Name (Open Status)')"
   ]
  },
  {
   "cell_type": "code",
   "execution_count": 31,
   "metadata": {},
   "outputs": [
    {
     "data": {
      "text/plain": [
       "Text(0.5, 1.0, 'Heating Complaints by Street (Open Status) - Zipcode 10031')"
      ]
     },
     "execution_count": 31,
     "metadata": {},
     "output_type": "execute_result"
    },
    {
     "data": {
      "image/png": "[encoded data removed]",
      "text/plain": [
       "<Figure size 432x288 with 1 Axes>"
      ]
     },
     "metadata": {},
     "output_type": "display_data"
    }
   ],
   "source": [
    "#only focusing on open and zip 10031\n",
    "df_heat=df.loc[(df['complaint_type'] == 'HEATING') & (df['status'] == 'Open') & (df['incident_zip'] == '10031')]\n",
    "df_grp_street=df_heat.street_name.value_counts().to_frame()\n",
    "df_grp_street.reset_index(drop=False,inplace=True)\n",
    "df_grp_street.rename(columns={'street_name':'total','index':'street'},inplace=True)\n",
    "df_grp_street=df_grp_street.head(20)\n",
    "sns.set(font_scale=0.8)\n",
    "sns.barplot(x='total', y='street', data=df_grp_street).set_title('Heating Complaints by Street (Open Status) - Zipcode 10031')"
   ]
  },
  {
   "cell_type": "markdown",
   "metadata": {},
   "source": [
    "#### Conclusion: The heating complaints are concentrated in zipcode 10031. A couple of streets, Riverside Drive and Broadway have the most complaints in that zipcode."
   ]
  },
  {
   "cell_type": "markdown",
   "metadata": {
    "collapsed": true
   },
   "source": [
    "### (3) Will try to determine if there is an obvious house/building characteristic that can help predict this particular type of complaint.<br>"
   ]
  },
  {
   "cell_type": "markdown",
   "metadata": {},
   "source": [
    "To evaluate if there is an obvious relationship between 'heating' complaints and the house characteristics I will be first creating a dataframe with all the addresses. Then I will put a column named heating with 1's or 0's.<br>\n",
    "To do this, I will be creating a set with all the addresses with a heating complaint and then I will be loading the PLUTO dataframe that contains all the addresses and just adding a column with 1 or 0 if they have a heating complaint.<br>"
   ]
  },
  {
   "cell_type": "code",
   "execution_count": 32,
   "metadata": {},
   "outputs": [
    {
     "name": "stdout",
     "output_type": "stream",
     "text": [
      "Total different addresses with a heating complaint: 122154\n"
     ]
    }
   ],
   "source": [
    "#creating a set with addresses with complaint type == 'HEATING'\n",
    "set_address_heating=set(df.incident_address.loc[(df['complaint_type'] == 'HEATING')])\n",
    "print('Total different addresses with a heating complaint:',len(set_address_heating))"
   ]
  },
  {
   "cell_type": "code",
   "execution_count": 33,
   "metadata": {},
   "outputs": [],
   "source": [
    "del df  #delete the df since I won't need it anymore"
   ]
  },
  {
   "cell_type": "markdown",
   "metadata": {},
   "source": [
    "As with the previous file, here is a link to download the same file I used:<br>\n",
    "https://www.dropbox.com/s/kb0et57h8ps6ao1/pluto_18v2_1.csv?dl=0"
   ]
  },
  {
   "cell_type": "code",
   "execution_count": 34,
   "metadata": {},
   "outputs": [
    {
     "name": "stderr",
     "output_type": "stream",
     "text": [
      "//anaconda3/lib/python3.7/site-packages/IPython/core/interactiveshell.py:3058: DtypeWarning: Columns (16,17,18,20,22,77) have mixed types. Specify dtype option on import or set low_memory=False.\n",
      "  interactivity=interactivity, compiler=compiler, result=result)\n"
     ]
    },
    {
     "name": "stdout",
     "output_type": "stream",
     "text": [
      "Time loading: 6.0608179569244385\n"
     ]
    }
   ],
   "source": [
    "#Loading PLUTO file... as a reference it takes 7 seconds in my computer\n",
    "start=time.time()\n",
    "df_pluto=pd.read_csv('pluto_18v2_1.csv',parse_dates=True)\n",
    "print('Time loading:',time.time()-start)"
   ]
  },
  {
   "cell_type": "code",
   "execution_count": 35,
   "metadata": {
    "scrolled": true
   },
   "outputs": [
    {
     "data": {
      "text/html": [
       "<div>\n",
       "<style scoped>\n",
       "    .dataframe tbody tr th:only-of-type {\n",
       "        vertical-align: middle;\n",
       "    }\n",
       "\n",
       "    .dataframe tbody tr th {\n",
       "        vertical-align: top;\n",
       "    }\n",
       "\n",
       "    .dataframe thead th {\n",
       "        text-align: right;\n",
       "    }\n",
       "</style>\n",
       "<table border=\"1\" class=\"dataframe\">\n",
       "  <thead>\n",
       "    <tr style=\"text-align: right;\">\n",
       "      <th></th>\n",
       "      <th>address</th>\n",
       "      <th>borough</th>\n",
       "      <th>zipcode</th>\n",
       "      <th>zonedist1</th>\n",
       "      <th>landuse</th>\n",
       "      <th>easements</th>\n",
       "      <th>ownertype</th>\n",
       "      <th>ownername</th>\n",
       "      <th>numbldgs</th>\n",
       "      <th>numfloors</th>\n",
       "      <th>...</th>\n",
       "      <th>builtfar</th>\n",
       "      <th>commfar</th>\n",
       "      <th>facilfar</th>\n",
       "      <th>lot</th>\n",
       "      <th>lotarea</th>\n",
       "      <th>lotdepth</th>\n",
       "      <th>resarea</th>\n",
       "      <th>officearea</th>\n",
       "      <th>residfar</th>\n",
       "      <th>retailarea</th>\n",
       "    </tr>\n",
       "  </thead>\n",
       "  <tbody>\n",
       "    <tr>\n",
       "      <th>0</th>\n",
       "      <td>CITY ISLAND AVENUE</td>\n",
       "      <td>BX</td>\n",
       "      <td>NaN</td>\n",
       "      <td>NaN</td>\n",
       "      <td>7.0</td>\n",
       "      <td>0.0</td>\n",
       "      <td>NaN</td>\n",
       "      <td>MINNY C INC.</td>\n",
       "      <td>0.0</td>\n",
       "      <td>0.0</td>\n",
       "      <td>...</td>\n",
       "      <td>0.00</td>\n",
       "      <td>0.0</td>\n",
       "      <td>0.0</td>\n",
       "      <td>670.0</td>\n",
       "      <td>53758.0</td>\n",
       "      <td>219.00</td>\n",
       "      <td>NaN</td>\n",
       "      <td>NaN</td>\n",
       "      <td>0.00</td>\n",
       "      <td>NaN</td>\n",
       "    </tr>\n",
       "    <tr>\n",
       "      <th>1</th>\n",
       "      <td>8-03 117 STREET</td>\n",
       "      <td>QN</td>\n",
       "      <td>11356.0</td>\n",
       "      <td>R2A</td>\n",
       "      <td>1.0</td>\n",
       "      <td>0.0</td>\n",
       "      <td>NaN</td>\n",
       "      <td>CHEN, ZHIBIN</td>\n",
       "      <td>1.0</td>\n",
       "      <td>2.5</td>\n",
       "      <td>...</td>\n",
       "      <td>0.29</td>\n",
       "      <td>0.0</td>\n",
       "      <td>1.0</td>\n",
       "      <td>3.0</td>\n",
       "      <td>10870.0</td>\n",
       "      <td>113.17</td>\n",
       "      <td>3130.0</td>\n",
       "      <td>0.0</td>\n",
       "      <td>0.50</td>\n",
       "      <td>0.0</td>\n",
       "    </tr>\n",
       "    <tr>\n",
       "      <th>2</th>\n",
       "      <td>SEMINOLE AVENUE</td>\n",
       "      <td>BX</td>\n",
       "      <td>NaN</td>\n",
       "      <td>R4</td>\n",
       "      <td>11.0</td>\n",
       "      <td>0.0</td>\n",
       "      <td>NaN</td>\n",
       "      <td>EDWARD AND LORRAINE S</td>\n",
       "      <td>0.0</td>\n",
       "      <td>0.0</td>\n",
       "      <td>...</td>\n",
       "      <td>0.00</td>\n",
       "      <td>0.0</td>\n",
       "      <td>2.0</td>\n",
       "      <td>41.0</td>\n",
       "      <td>2369.0</td>\n",
       "      <td>95.06</td>\n",
       "      <td>NaN</td>\n",
       "      <td>NaN</td>\n",
       "      <td>0.90</td>\n",
       "      <td>NaN</td>\n",
       "    </tr>\n",
       "    <tr>\n",
       "      <th>3</th>\n",
       "      <td>EAST 156 STREET</td>\n",
       "      <td>BX</td>\n",
       "      <td>NaN</td>\n",
       "      <td>R6</td>\n",
       "      <td>10.0</td>\n",
       "      <td>0.0</td>\n",
       "      <td>NaN</td>\n",
       "      <td>156, LLC</td>\n",
       "      <td>0.0</td>\n",
       "      <td>0.0</td>\n",
       "      <td>...</td>\n",
       "      <td>0.00</td>\n",
       "      <td>0.0</td>\n",
       "      <td>4.8</td>\n",
       "      <td>14.0</td>\n",
       "      <td>3750.0</td>\n",
       "      <td>100.00</td>\n",
       "      <td>NaN</td>\n",
       "      <td>NaN</td>\n",
       "      <td>2.43</td>\n",
       "      <td>NaN</td>\n",
       "    </tr>\n",
       "    <tr>\n",
       "      <th>4</th>\n",
       "      <td>216 FRANKLIN AVENUE</td>\n",
       "      <td>SI</td>\n",
       "      <td>10301.0</td>\n",
       "      <td>R2</td>\n",
       "      <td>1.0</td>\n",
       "      <td>0.0</td>\n",
       "      <td>NaN</td>\n",
       "      <td>DENNIS COTTER</td>\n",
       "      <td>1.0</td>\n",
       "      <td>2.5</td>\n",
       "      <td>...</td>\n",
       "      <td>0.46</td>\n",
       "      <td>0.0</td>\n",
       "      <td>1.0</td>\n",
       "      <td>83.0</td>\n",
       "      <td>3465.0</td>\n",
       "      <td>105.00</td>\n",
       "      <td>1590.0</td>\n",
       "      <td>0.0</td>\n",
       "      <td>0.50</td>\n",
       "      <td>0.0</td>\n",
       "    </tr>\n",
       "  </tbody>\n",
       "</table>\n",
       "<p>5 rows × 33 columns</p>\n",
       "</div>"
      ],
      "text/plain": [
       "                address borough  zipcode zonedist1  landuse  easements  \\\n",
       "0    CITY ISLAND AVENUE      BX      NaN       NaN      7.0        0.0   \n",
       "1       8-03 117 STREET      QN  11356.0       R2A      1.0        0.0   \n",
       "2       SEMINOLE AVENUE      BX      NaN        R4     11.0        0.0   \n",
       "3       EAST 156 STREET      BX      NaN        R6     10.0        0.0   \n",
       "4   216 FRANKLIN AVENUE      SI  10301.0        R2      1.0        0.0   \n",
       "\n",
       "  ownertype              ownername  numbldgs  numfloors  ...  builtfar  \\\n",
       "0       NaN           MINNY C INC.       0.0        0.0  ...      0.00   \n",
       "1       NaN           CHEN, ZHIBIN       1.0        2.5  ...      0.29   \n",
       "2       NaN  EDWARD AND LORRAINE S       0.0        0.0  ...      0.00   \n",
       "3       NaN               156, LLC       0.0        0.0  ...      0.00   \n",
       "4       NaN          DENNIS COTTER       1.0        2.5  ...      0.46   \n",
       "\n",
       "   commfar  facilfar    lot  lotarea  lotdepth  resarea  officearea  residfar  \\\n",
       "0      0.0       0.0  670.0  53758.0    219.00      NaN         NaN      0.00   \n",
       "1      0.0       1.0    3.0  10870.0    113.17   3130.0         0.0      0.50   \n",
       "2      0.0       2.0   41.0   2369.0     95.06      NaN         NaN      0.90   \n",
       "3      0.0       4.8   14.0   3750.0    100.00      NaN         NaN      2.43   \n",
       "4      0.0       1.0   83.0   3465.0    105.00   1590.0         0.0      0.50   \n",
       "\n",
       "   retailarea  \n",
       "0         NaN  \n",
       "1         0.0  \n",
       "2         NaN  \n",
       "3         NaN  \n",
       "4         0.0  \n",
       "\n",
       "[5 rows x 33 columns]"
      ]
     },
     "execution_count": 35,
     "metadata": {},
     "output_type": "execute_result"
    }
   ],
   "source": [
    "#Just keeping the useful columns.\n",
    "df_pluto=df_pluto[['address','borough','zipcode','zonedist1','landuse','easements','ownertype','ownername','numbldgs','numfloors','unitsres','unitstotal','lottype','bsmtcode','assessland','assesstot','yearbuilt','yearalter1','yearalter2','xcoord','ycoord','bldgarea','bldgdepth','builtfar','commfar','facilfar','lot','lotarea','lotdepth','resarea','officearea','residfar','retailarea']]\n",
    "df_pluto.head(5)"
   ]
  },
  {
   "cell_type": "markdown",
   "metadata": {},
   "source": [
    "I will be standardizing the addresses the same way as with the 311 dataframe so I can match it with the set I just created."
   ]
  },
  {
   "cell_type": "code",
   "execution_count": 36,
   "metadata": {},
   "outputs": [],
   "source": [
    "#Removing tabs and spaces\n",
    "df_pluto.address = df_pluto.address.replace('\\s+', ' ', regex=True)\n",
    "df_pluto.address = df_pluto.address.str.strip()\n",
    "#substituting most common abbreviated words\n",
    "df_pluto.address = df_pluto.address.str.replace('AVENUE','AVE')\n",
    "df_pluto.address = df_pluto.address.str.replace('STREET','ST')\n",
    "df_pluto.address = df_pluto.address.str.replace('PLACE','PL')\n",
    "df_pluto.address = df_pluto.address.str.replace('ROAD','RD')\n",
    "df_pluto.address = df_pluto.address.str.replace('BOULEVARD','BLVD')\n",
    "df_pluto.address = df_pluto.address.str.replace(' EAST ',' E ')\n",
    "df_pluto.address = df_pluto.address.str.replace(' EAST',' E')\n",
    "df_pluto.address = df_pluto.address.str.replace(' WEST ',' W ')\n",
    "df_pluto.address = df_pluto.address.str.replace(' WEST',' W')\n",
    "df_pluto.address = df_pluto.address.str.replace(' NORTH ',' N ')\n",
    "df_pluto.address = df_pluto.address.str.replace(' NORTH',' N')\n",
    "df_pluto.address = df_pluto.address.str.replace(' SOUTH ',' S ')\n",
    "df_pluto.address = df_pluto.address.str.replace(' SOUTH',' S')"
   ]
  },
  {
   "cell_type": "code",
   "execution_count": 37,
   "metadata": {},
   "outputs": [
    {
     "name": "stdout",
     "output_type": "stream",
     "text": [
      "Total rows:  858982\n",
      "Total different addresses:  828593\n",
      "Difference:  30389\n"
     ]
    }
   ],
   "source": [
    "print('Total rows: ',df_pluto.shape[0])\n",
    "print('Total different addresses: ',df_pluto['address'].nunique())\n",
    "print('Difference: ',df_pluto.shape[0]-df_pluto['address'].nunique())"
   ]
  },
  {
   "cell_type": "markdown",
   "metadata": {},
   "source": [
    "__It looks like there are around 30k duplicated addresses in Pluto.__"
   ]
  },
  {
   "cell_type": "code",
   "execution_count": 38,
   "metadata": {},
   "outputs": [
    {
     "name": "stdout",
     "output_type": "stream",
     "text": [
      "Total rows:  828594\n"
     ]
    }
   ],
   "source": [
    "#removing duplicated addresses, will keep the first.\n",
    "df_pluto.drop_duplicates(subset ='address', keep = 'first', inplace = True)\n",
    "print('Total rows: ',df_pluto.shape[0])"
   ]
  },
  {
   "cell_type": "code",
   "execution_count": 39,
   "metadata": {},
   "outputs": [
    {
     "name": "stdout",
     "output_type": "stream",
     "text": [
      "Total addresses with heating complaint:  107667 \n",
      "\n"
     ]
    },
    {
     "data": {
      "text/html": [
       "<div>\n",
       "<style scoped>\n",
       "    .dataframe tbody tr th:only-of-type {\n",
       "        vertical-align: middle;\n",
       "    }\n",
       "\n",
       "    .dataframe tbody tr th {\n",
       "        vertical-align: top;\n",
       "    }\n",
       "\n",
       "    .dataframe thead th {\n",
       "        text-align: right;\n",
       "    }\n",
       "</style>\n",
       "<table border=\"1\" class=\"dataframe\">\n",
       "  <thead>\n",
       "    <tr style=\"text-align: right;\">\n",
       "      <th></th>\n",
       "      <th>address</th>\n",
       "      <th>borough</th>\n",
       "      <th>zipcode</th>\n",
       "      <th>zonedist1</th>\n",
       "      <th>landuse</th>\n",
       "      <th>easements</th>\n",
       "      <th>ownertype</th>\n",
       "      <th>ownername</th>\n",
       "      <th>numbldgs</th>\n",
       "      <th>numfloors</th>\n",
       "      <th>...</th>\n",
       "      <th>commfar</th>\n",
       "      <th>facilfar</th>\n",
       "      <th>lot</th>\n",
       "      <th>lotarea</th>\n",
       "      <th>lotdepth</th>\n",
       "      <th>resarea</th>\n",
       "      <th>officearea</th>\n",
       "      <th>residfar</th>\n",
       "      <th>retailarea</th>\n",
       "      <th>heating</th>\n",
       "    </tr>\n",
       "  </thead>\n",
       "  <tbody>\n",
       "    <tr>\n",
       "      <th>0</th>\n",
       "      <td>CITY ISLAND AVE</td>\n",
       "      <td>BX</td>\n",
       "      <td>NaN</td>\n",
       "      <td>NaN</td>\n",
       "      <td>7.0</td>\n",
       "      <td>0.0</td>\n",
       "      <td>NaN</td>\n",
       "      <td>MINNY C INC.</td>\n",
       "      <td>0.0</td>\n",
       "      <td>0.0</td>\n",
       "      <td>...</td>\n",
       "      <td>0.0</td>\n",
       "      <td>0.0</td>\n",
       "      <td>670.0</td>\n",
       "      <td>53758.0</td>\n",
       "      <td>219.00</td>\n",
       "      <td>NaN</td>\n",
       "      <td>NaN</td>\n",
       "      <td>0.00</td>\n",
       "      <td>NaN</td>\n",
       "      <td>0</td>\n",
       "    </tr>\n",
       "    <tr>\n",
       "      <th>1</th>\n",
       "      <td>8-03 117 ST</td>\n",
       "      <td>QN</td>\n",
       "      <td>11356.0</td>\n",
       "      <td>R2A</td>\n",
       "      <td>1.0</td>\n",
       "      <td>0.0</td>\n",
       "      <td>NaN</td>\n",
       "      <td>CHEN, ZHIBIN</td>\n",
       "      <td>1.0</td>\n",
       "      <td>2.5</td>\n",
       "      <td>...</td>\n",
       "      <td>0.0</td>\n",
       "      <td>1.0</td>\n",
       "      <td>3.0</td>\n",
       "      <td>10870.0</td>\n",
       "      <td>113.17</td>\n",
       "      <td>3130.0</td>\n",
       "      <td>0.0</td>\n",
       "      <td>0.50</td>\n",
       "      <td>0.0</td>\n",
       "      <td>0</td>\n",
       "    </tr>\n",
       "    <tr>\n",
       "      <th>2</th>\n",
       "      <td>SEMINOLE AVE</td>\n",
       "      <td>BX</td>\n",
       "      <td>NaN</td>\n",
       "      <td>R4</td>\n",
       "      <td>11.0</td>\n",
       "      <td>0.0</td>\n",
       "      <td>NaN</td>\n",
       "      <td>EDWARD AND LORRAINE S</td>\n",
       "      <td>0.0</td>\n",
       "      <td>0.0</td>\n",
       "      <td>...</td>\n",
       "      <td>0.0</td>\n",
       "      <td>2.0</td>\n",
       "      <td>41.0</td>\n",
       "      <td>2369.0</td>\n",
       "      <td>95.06</td>\n",
       "      <td>NaN</td>\n",
       "      <td>NaN</td>\n",
       "      <td>0.90</td>\n",
       "      <td>NaN</td>\n",
       "      <td>0</td>\n",
       "    </tr>\n",
       "    <tr>\n",
       "      <th>3</th>\n",
       "      <td>EAST 156 ST</td>\n",
       "      <td>BX</td>\n",
       "      <td>NaN</td>\n",
       "      <td>R6</td>\n",
       "      <td>10.0</td>\n",
       "      <td>0.0</td>\n",
       "      <td>NaN</td>\n",
       "      <td>156, LLC</td>\n",
       "      <td>0.0</td>\n",
       "      <td>0.0</td>\n",
       "      <td>...</td>\n",
       "      <td>0.0</td>\n",
       "      <td>4.8</td>\n",
       "      <td>14.0</td>\n",
       "      <td>3750.0</td>\n",
       "      <td>100.00</td>\n",
       "      <td>NaN</td>\n",
       "      <td>NaN</td>\n",
       "      <td>2.43</td>\n",
       "      <td>NaN</td>\n",
       "      <td>0</td>\n",
       "    </tr>\n",
       "    <tr>\n",
       "      <th>4</th>\n",
       "      <td>216 FRANKLIN AVE</td>\n",
       "      <td>SI</td>\n",
       "      <td>10301.0</td>\n",
       "      <td>R2</td>\n",
       "      <td>1.0</td>\n",
       "      <td>0.0</td>\n",
       "      <td>NaN</td>\n",
       "      <td>DENNIS COTTER</td>\n",
       "      <td>1.0</td>\n",
       "      <td>2.5</td>\n",
       "      <td>...</td>\n",
       "      <td>0.0</td>\n",
       "      <td>1.0</td>\n",
       "      <td>83.0</td>\n",
       "      <td>3465.0</td>\n",
       "      <td>105.00</td>\n",
       "      <td>1590.0</td>\n",
       "      <td>0.0</td>\n",
       "      <td>0.50</td>\n",
       "      <td>0.0</td>\n",
       "      <td>0</td>\n",
       "    </tr>\n",
       "  </tbody>\n",
       "</table>\n",
       "<p>5 rows × 34 columns</p>\n",
       "</div>"
      ],
      "text/plain": [
       "            address borough  zipcode zonedist1  landuse  easements ownertype  \\\n",
       "0   CITY ISLAND AVE      BX      NaN       NaN      7.0        0.0       NaN   \n",
       "1       8-03 117 ST      QN  11356.0       R2A      1.0        0.0       NaN   \n",
       "2      SEMINOLE AVE      BX      NaN        R4     11.0        0.0       NaN   \n",
       "3       EAST 156 ST      BX      NaN        R6     10.0        0.0       NaN   \n",
       "4  216 FRANKLIN AVE      SI  10301.0        R2      1.0        0.0       NaN   \n",
       "\n",
       "               ownername  numbldgs  numfloors  ...  commfar  facilfar    lot  \\\n",
       "0           MINNY C INC.       0.0        0.0  ...      0.0       0.0  670.0   \n",
       "1           CHEN, ZHIBIN       1.0        2.5  ...      0.0       1.0    3.0   \n",
       "2  EDWARD AND LORRAINE S       0.0        0.0  ...      0.0       2.0   41.0   \n",
       "3               156, LLC       0.0        0.0  ...      0.0       4.8   14.0   \n",
       "4          DENNIS COTTER       1.0        2.5  ...      0.0       1.0   83.0   \n",
       "\n",
       "   lotarea  lotdepth  resarea  officearea  residfar  retailarea  heating  \n",
       "0  53758.0    219.00      NaN         NaN      0.00         NaN        0  \n",
       "1  10870.0    113.17   3130.0         0.0      0.50         0.0        0  \n",
       "2   2369.0     95.06      NaN         NaN      0.90         NaN        0  \n",
       "3   3750.0    100.00      NaN         NaN      2.43         NaN        0  \n",
       "4   3465.0    105.00   1590.0         0.0      0.50         0.0        0  \n",
       "\n",
       "[5 rows x 34 columns]"
      ]
     },
     "execution_count": 39,
     "metadata": {},
     "output_type": "execute_result"
    }
   ],
   "source": [
    "#filling up a 1 or 0 if there is a heating complaint\n",
    "y=list()\n",
    "x=list(df_pluto['address'])\n",
    "for i in x:\n",
    "    if i in set_address_heating:\n",
    "        y.append(1)\n",
    "    else:\n",
    "        y.append(0)\n",
    "df_pluto['heating']=y\n",
    "print('Total addresses with heating complaint: ',df_pluto.heating.sum(),'\\n')\n",
    "df_pluto.head(5)"
   ]
  },
  {
   "cell_type": "code",
   "execution_count": 40,
   "metadata": {},
   "outputs": [
    {
     "name": "stdout",
     "output_type": "stream",
     "text": [
      "14487\n"
     ]
    }
   ],
   "source": [
    "x=set(df_pluto['address'])\n",
    "y=set_address_heating\n",
    "z=y-x   #the addresses with heating complaints that don't appear in Pluto\n",
    "print(len(z))"
   ]
  },
  {
   "cell_type": "markdown",
   "metadata": {},
   "source": [
    "__14,487 addresses with a heating complaint doesn't match in pluto.__<br>\n",
    "I checked a few of them to see if there were more ways to standardize the names but the addresses are just not in the dataframe."
   ]
  },
  {
   "cell_type": "code",
   "execution_count": 41,
   "metadata": {},
   "outputs": [
    {
     "name": "stdout",
     "output_type": "stream",
     "text": [
      "Total Dataframe Rows: 828594\n",
      "\n",
      "TOTAL UNIQUE VALUES/COLUMN\n",
      "address : 828593 unique \t\tNaNs: 1\n",
      "borough : 5 unique \t\tNaNs: 0\n",
      "zipcode : 210 unique \t\tNaNs: 3730\n",
      "zonedist1 : 162 unique \t\tNaNs: 829\n",
      "landuse : 11 unique \t\tNaNs: 1746\n",
      "easements : 8 unique \t\tNaNs: 0\n",
      "ownertype : 5 unique \t\tNaNs: 804419\n",
      "ownername : 726009 unique \t\tNaNs: 20\n",
      "numbldgs : 141 unique \t\tNaNs: 19\n",
      "numfloors : 166 unique \t\tNaNs: 19\n",
      "unitsres : 738 unique \t\tNaNs: 0\n",
      "unitstotal : 763 unique \t\tNaNs: 0\n",
      "lottype : 10 unique \t\tNaNs: 0\n",
      "bsmtcode : 6 unique \t\tNaNs: 0\n",
      "assessland : 58325 unique \t\tNaNs: 0\n",
      "assesstot : 85186 unique \t\tNaNs: 0\n",
      "yearbuilt : 220 unique \t\tNaNs: 0\n",
      "yearalter1 : 117 unique \t\tNaNs: 0\n",
      "yearalter2 : 75 unique \t\tNaNs: 0\n",
      "xcoord : 133613 unique \t\tNaNs: 244\n",
      "ycoord : 136804 unique \t\tNaNs: 244\n",
      "bldgarea : 36785 unique \t\tNaNs: 0\n",
      "bldgdepth : 5097 unique \t\tNaNs: 19\n",
      "builtfar : 2243 unique \t\tNaNs: 2295\n",
      "commfar : 16 unique \t\tNaNs: 0\n",
      "facilfar : 20 unique \t\tNaNs: 0\n",
      "lot : 2365 unique \t\tNaNs: 0\n",
      "lotarea : 26473 unique \t\tNaNs: 19\n",
      "lotdepth : 14790 unique \t\tNaNs: 1691\n",
      "resarea : 27847 unique \t\tNaNs: 25392\n",
      "officearea : 8549 unique \t\tNaNs: 25392\n",
      "residfar : 28 unique \t\tNaNs: 0\n",
      "retailarea : 9201 unique \t\tNaNs: 25392\n",
      "heating : 2 unique \t\tNaNs: 0\n"
     ]
    }
   ],
   "source": [
    "#Data wrangling. Trying to see if I have to much NaN values, etc.\n",
    "x=list(df_pluto.columns)\n",
    "print('Total Dataframe Rows:',df_pluto.shape[0])\n",
    "print('\\nTOTAL UNIQUE VALUES/COLUMN')\n",
    "for i in x:\n",
    "    print(i, ':',df_pluto[i].nunique(),'unique \\t\\tNaNs:',df_pluto[i].isna().sum())"
   ]
  },
  {
   "cell_type": "markdown",
   "metadata": {},
   "source": [
    "Will be deleting columns ownertype and ownername since:<br>\n",
    " - ownertype has more than 800k NaNs<br>\n",
    " - ownername has more than 700k different values"
   ]
  },
  {
   "cell_type": "code",
   "execution_count": 42,
   "metadata": {},
   "outputs": [
    {
     "data": {
      "text/plain": [
       "address           1\n",
       "borough           0\n",
       "zipcode        3730\n",
       "zonedist1       829\n",
       "landuse        1746\n",
       "easements         0\n",
       "numbldgs         19\n",
       "numfloors        19\n",
       "unitsres          0\n",
       "unitstotal        0\n",
       "lottype           0\n",
       "bsmtcode          0\n",
       "assessland        0\n",
       "assesstot         0\n",
       "yearbuilt         0\n",
       "yearalter1        0\n",
       "yearalter2        0\n",
       "xcoord          244\n",
       "ycoord          244\n",
       "bldgarea          0\n",
       "bldgdepth        19\n",
       "builtfar       2295\n",
       "commfar           0\n",
       "facilfar          0\n",
       "lot               0\n",
       "lotarea          19\n",
       "lotdepth       1691\n",
       "resarea       25392\n",
       "officearea    25392\n",
       "residfar          0\n",
       "retailarea    25392\n",
       "heating           0\n",
       "dtype: int64"
      ]
     },
     "execution_count": 42,
     "metadata": {},
     "output_type": "execute_result"
    }
   ],
   "source": [
    "df_pluto.drop(['ownertype','ownername'], axis=1, inplace=True)\n",
    "df_pluto.isna().sum()"
   ]
  },
  {
   "cell_type": "markdown",
   "metadata": {},
   "source": [
    "Decided to delete the rows with NaN values since there are only around 25k addresses from a total of more than 828K."
   ]
  },
  {
   "cell_type": "code",
   "execution_count": 43,
   "metadata": {},
   "outputs": [
    {
     "name": "stdout",
     "output_type": "stream",
     "text": [
      "Before:  828594\n",
      "After:  799119\n"
     ]
    }
   ],
   "source": [
    "print('Before: ',df_pluto.shape[0])\n",
    "df_pluto.dropna(inplace=True)  #removes columns with ALL NANs\n",
    "print('After: ',df_pluto.shape[0])"
   ]
  },
  {
   "cell_type": "markdown",
   "metadata": {},
   "source": [
    "I will be converting zonedist1 with 160 different codes to a dummy column if it is residential or not.<br>\n",
    "According to the pluto data dictionary, if it starts with 'R' or has a '/R' it is considered residential."
   ]
  },
  {
   "cell_type": "code",
   "execution_count": 44,
   "metadata": {},
   "outputs": [
    {
     "data": {
      "text/plain": [
       "160"
      ]
     },
     "execution_count": 44,
     "metadata": {},
     "output_type": "execute_result"
    }
   ],
   "source": [
    "df_pluto['zonedist1'].nunique()"
   ]
  },
  {
   "cell_type": "code",
   "execution_count": 45,
   "metadata": {},
   "outputs": [
    {
     "data": {
      "text/html": [
       "<div>\n",
       "<style scoped>\n",
       "    .dataframe tbody tr th:only-of-type {\n",
       "        vertical-align: middle;\n",
       "    }\n",
       "\n",
       "    .dataframe tbody tr th {\n",
       "        vertical-align: top;\n",
       "    }\n",
       "\n",
       "    .dataframe thead th {\n",
       "        text-align: right;\n",
       "    }\n",
       "</style>\n",
       "<table border=\"1\" class=\"dataframe\">\n",
       "  <thead>\n",
       "    <tr style=\"text-align: right;\">\n",
       "      <th></th>\n",
       "      <th>address</th>\n",
       "      <th>borough</th>\n",
       "      <th>zipcode</th>\n",
       "      <th>zonedist1</th>\n",
       "      <th>landuse</th>\n",
       "      <th>easements</th>\n",
       "      <th>numbldgs</th>\n",
       "      <th>numfloors</th>\n",
       "      <th>unitsres</th>\n",
       "      <th>unitstotal</th>\n",
       "      <th>...</th>\n",
       "      <th>facilfar</th>\n",
       "      <th>lot</th>\n",
       "      <th>lotarea</th>\n",
       "      <th>lotdepth</th>\n",
       "      <th>resarea</th>\n",
       "      <th>officearea</th>\n",
       "      <th>residfar</th>\n",
       "      <th>retailarea</th>\n",
       "      <th>heating</th>\n",
       "      <th>residential</th>\n",
       "    </tr>\n",
       "  </thead>\n",
       "  <tbody>\n",
       "    <tr>\n",
       "      <th>1</th>\n",
       "      <td>8-03 117 ST</td>\n",
       "      <td>QN</td>\n",
       "      <td>11356.0</td>\n",
       "      <td>R2A</td>\n",
       "      <td>1.0</td>\n",
       "      <td>0.0</td>\n",
       "      <td>1.0</td>\n",
       "      <td>2.5</td>\n",
       "      <td>1.0</td>\n",
       "      <td>1.0</td>\n",
       "      <td>...</td>\n",
       "      <td>1.0</td>\n",
       "      <td>3.0</td>\n",
       "      <td>10870.0</td>\n",
       "      <td>113.17</td>\n",
       "      <td>3130.0</td>\n",
       "      <td>0.0</td>\n",
       "      <td>0.50</td>\n",
       "      <td>0.0</td>\n",
       "      <td>0</td>\n",
       "      <td>1</td>\n",
       "    </tr>\n",
       "    <tr>\n",
       "      <th>4</th>\n",
       "      <td>216 FRANKLIN AVE</td>\n",
       "      <td>SI</td>\n",
       "      <td>10301.0</td>\n",
       "      <td>R2</td>\n",
       "      <td>1.0</td>\n",
       "      <td>0.0</td>\n",
       "      <td>1.0</td>\n",
       "      <td>2.5</td>\n",
       "      <td>1.0</td>\n",
       "      <td>1.0</td>\n",
       "      <td>...</td>\n",
       "      <td>1.0</td>\n",
       "      <td>83.0</td>\n",
       "      <td>3465.0</td>\n",
       "      <td>105.00</td>\n",
       "      <td>1590.0</td>\n",
       "      <td>0.0</td>\n",
       "      <td>0.50</td>\n",
       "      <td>0.0</td>\n",
       "      <td>0</td>\n",
       "      <td>1</td>\n",
       "    </tr>\n",
       "    <tr>\n",
       "      <th>6</th>\n",
       "      <td>5102 POST RD</td>\n",
       "      <td>BX</td>\n",
       "      <td>10471.0</td>\n",
       "      <td>R4</td>\n",
       "      <td>2.0</td>\n",
       "      <td>0.0</td>\n",
       "      <td>1.0</td>\n",
       "      <td>3.0</td>\n",
       "      <td>3.0</td>\n",
       "      <td>3.0</td>\n",
       "      <td>...</td>\n",
       "      <td>2.0</td>\n",
       "      <td>1502.0</td>\n",
       "      <td>7619.0</td>\n",
       "      <td>101.58</td>\n",
       "      <td>3738.0</td>\n",
       "      <td>0.0</td>\n",
       "      <td>0.90</td>\n",
       "      <td>0.0</td>\n",
       "      <td>0</td>\n",
       "      <td>1</td>\n",
       "    </tr>\n",
       "    <tr>\n",
       "      <th>8</th>\n",
       "      <td>2168 W 8 ST</td>\n",
       "      <td>BK</td>\n",
       "      <td>11223.0</td>\n",
       "      <td>R5</td>\n",
       "      <td>1.0</td>\n",
       "      <td>0.0</td>\n",
       "      <td>1.0</td>\n",
       "      <td>2.0</td>\n",
       "      <td>2.0</td>\n",
       "      <td>2.0</td>\n",
       "      <td>...</td>\n",
       "      <td>2.0</td>\n",
       "      <td>37.0</td>\n",
       "      <td>2312.0</td>\n",
       "      <td>115.58</td>\n",
       "      <td>1984.0</td>\n",
       "      <td>0.0</td>\n",
       "      <td>1.25</td>\n",
       "      <td>0.0</td>\n",
       "      <td>0</td>\n",
       "      <td>1</td>\n",
       "    </tr>\n",
       "    <tr>\n",
       "      <th>10</th>\n",
       "      <td>107-46 90 ST</td>\n",
       "      <td>QN</td>\n",
       "      <td>11417.0</td>\n",
       "      <td>R4A</td>\n",
       "      <td>1.0</td>\n",
       "      <td>0.0</td>\n",
       "      <td>1.0</td>\n",
       "      <td>2.0</td>\n",
       "      <td>2.0</td>\n",
       "      <td>2.0</td>\n",
       "      <td>...</td>\n",
       "      <td>2.0</td>\n",
       "      <td>28.0</td>\n",
       "      <td>2002.0</td>\n",
       "      <td>100.08</td>\n",
       "      <td>1024.0</td>\n",
       "      <td>0.0</td>\n",
       "      <td>0.90</td>\n",
       "      <td>0.0</td>\n",
       "      <td>0</td>\n",
       "      <td>1</td>\n",
       "    </tr>\n",
       "  </tbody>\n",
       "</table>\n",
       "<p>5 rows × 33 columns</p>\n",
       "</div>"
      ],
      "text/plain": [
       "             address borough  zipcode zonedist1  landuse  easements  numbldgs  \\\n",
       "1        8-03 117 ST      QN  11356.0       R2A      1.0        0.0       1.0   \n",
       "4   216 FRANKLIN AVE      SI  10301.0        R2      1.0        0.0       1.0   \n",
       "6       5102 POST RD      BX  10471.0        R4      2.0        0.0       1.0   \n",
       "8        2168 W 8 ST      BK  11223.0        R5      1.0        0.0       1.0   \n",
       "10      107-46 90 ST      QN  11417.0       R4A      1.0        0.0       1.0   \n",
       "\n",
       "    numfloors  unitsres  unitstotal  ...  facilfar     lot  lotarea  lotdepth  \\\n",
       "1         2.5       1.0         1.0  ...       1.0     3.0  10870.0    113.17   \n",
       "4         2.5       1.0         1.0  ...       1.0    83.0   3465.0    105.00   \n",
       "6         3.0       3.0         3.0  ...       2.0  1502.0   7619.0    101.58   \n",
       "8         2.0       2.0         2.0  ...       2.0    37.0   2312.0    115.58   \n",
       "10        2.0       2.0         2.0  ...       2.0    28.0   2002.0    100.08   \n",
       "\n",
       "    resarea  officearea  residfar  retailarea  heating  residential  \n",
       "1    3130.0         0.0      0.50         0.0        0            1  \n",
       "4    1590.0         0.0      0.50         0.0        0            1  \n",
       "6    3738.0         0.0      0.90         0.0        0            1  \n",
       "8    1984.0         0.0      1.25         0.0        0            1  \n",
       "10   1024.0         0.0      0.90         0.0        0            1  \n",
       "\n",
       "[5 rows x 33 columns]"
      ]
     },
     "execution_count": 45,
     "metadata": {},
     "output_type": "execute_result"
    }
   ],
   "source": [
    "y=list()\n",
    "x=list(df_pluto['zonedist1'])\n",
    "for i in x:\n",
    "    if str(i).startswith('R'):      #Residential\n",
    "        y.append(1)\n",
    "    elif '/R' in str(i):      #Residential\n",
    "        y.append(1)\n",
    "    else:                           #non Residential\n",
    "        y.append(0)\n",
    "df_pluto['residential']=y\n",
    "df_pluto.head(5)"
   ]
  },
  {
   "cell_type": "code",
   "execution_count": 46,
   "metadata": {},
   "outputs": [],
   "source": [
    "#converting borough to a number:\n",
    "dict_temp={'BK':4,'BX':2,'MN':5,'QN':3,'SI':1}\n",
    "df_pluto['borough_num'] = df_pluto['borough'].map(dict_temp)"
   ]
  },
  {
   "cell_type": "code",
   "execution_count": 47,
   "metadata": {},
   "outputs": [],
   "source": [
    "#creating a new column with the last year it was constructed/remodeled\n",
    "df_pluto['last_construction'] = df_pluto[['yearbuilt', 'yearalter1', 'yearalter2']].max(axis=1)"
   ]
  },
  {
   "cell_type": "code",
   "execution_count": 48,
   "metadata": {},
   "outputs": [
    {
     "name": "stdout",
     "output_type": "stream",
     "text": [
      "Before: (799119, 35)\n",
      "After: (798269, 35)\n"
     ]
    }
   ],
   "source": [
    "print('Before:',df_pluto.shape)             #deleting around 1k rows with construction date of 0\n",
    "df_pluto=df_pluto[df_pluto.yearbuilt>0]\n",
    "df_pluto=df_pluto[df_pluto.yearbuilt<=2019] #deleting 1 row with construction date of 2040\n",
    "print('After:',df_pluto.shape)"
   ]
  },
  {
   "cell_type": "markdown",
   "metadata": {},
   "source": [
    "__In order to see if there is an obvious relationship, I will be applying 5 methods:__\n",
    " - (a) Visualization/Graphs\n",
    " - (b) Correlation table\n",
    " - (c) Recursive Feature Elimination (RFE)\n",
    " - (d) Random Forest Feature Importance\n",
    " - (e) XGBoost Feature Importance"
   ]
  },
  {
   "cell_type": "markdown",
   "metadata": {},
   "source": [
    "### (a) Visualization and Graphs"
   ]
  },
  {
   "cell_type": "code",
   "execution_count": 49,
   "metadata": {},
   "outputs": [
    {
     "data": {
      "text/html": [
       "<div>\n",
       "<style scoped>\n",
       "    .dataframe tbody tr th:only-of-type {\n",
       "        vertical-align: middle;\n",
       "    }\n",
       "\n",
       "    .dataframe tbody tr th {\n",
       "        vertical-align: top;\n",
       "    }\n",
       "\n",
       "    .dataframe thead th {\n",
       "        text-align: right;\n",
       "    }\n",
       "</style>\n",
       "<table border=\"1\" class=\"dataframe\">\n",
       "  <thead>\n",
       "    <tr style=\"text-align: right;\">\n",
       "      <th></th>\n",
       "      <th>address</th>\n",
       "      <th>borough</th>\n",
       "      <th>zipcode</th>\n",
       "      <th>zonedist1</th>\n",
       "      <th>landuse</th>\n",
       "      <th>easements</th>\n",
       "      <th>numbldgs</th>\n",
       "      <th>numfloors</th>\n",
       "      <th>unitsres</th>\n",
       "      <th>unitstotal</th>\n",
       "      <th>...</th>\n",
       "      <th>lotarea</th>\n",
       "      <th>lotdepth</th>\n",
       "      <th>resarea</th>\n",
       "      <th>officearea</th>\n",
       "      <th>residfar</th>\n",
       "      <th>retailarea</th>\n",
       "      <th>heating</th>\n",
       "      <th>residential</th>\n",
       "      <th>borough_num</th>\n",
       "      <th>last_construction</th>\n",
       "    </tr>\n",
       "  </thead>\n",
       "  <tbody>\n",
       "    <tr>\n",
       "      <th>3109</th>\n",
       "      <td>3300 BRDWAY</td>\n",
       "      <td>MN</td>\n",
       "      <td>10031.0</td>\n",
       "      <td>C6-2</td>\n",
       "      <td>6.0</td>\n",
       "      <td>0.0</td>\n",
       "      <td>1.0</td>\n",
       "      <td>2.0</td>\n",
       "      <td>0.0</td>\n",
       "      <td>3.0</td>\n",
       "      <td>...</td>\n",
       "      <td>17984.0</td>\n",
       "      <td>90.00</td>\n",
       "      <td>0.0</td>\n",
       "      <td>0.0</td>\n",
       "      <td>6.02</td>\n",
       "      <td>17984.0</td>\n",
       "      <td>1</td>\n",
       "      <td>0</td>\n",
       "      <td>5</td>\n",
       "      <td>1989.0</td>\n",
       "    </tr>\n",
       "    <tr>\n",
       "      <th>3196</th>\n",
       "      <td>327 CONVENT AVE</td>\n",
       "      <td>MN</td>\n",
       "      <td>10031.0</td>\n",
       "      <td>R6A</td>\n",
       "      <td>1.0</td>\n",
       "      <td>0.0</td>\n",
       "      <td>1.0</td>\n",
       "      <td>4.0</td>\n",
       "      <td>1.0</td>\n",
       "      <td>1.0</td>\n",
       "      <td>...</td>\n",
       "      <td>2000.0</td>\n",
       "      <td>100.00</td>\n",
       "      <td>3596.0</td>\n",
       "      <td>0.0</td>\n",
       "      <td>3.00</td>\n",
       "      <td>0.0</td>\n",
       "      <td>1</td>\n",
       "      <td>1</td>\n",
       "      <td>5</td>\n",
       "      <td>1899.0</td>\n",
       "    </tr>\n",
       "    <tr>\n",
       "      <th>4766</th>\n",
       "      <td>501 W 152 ST</td>\n",
       "      <td>MN</td>\n",
       "      <td>10031.0</td>\n",
       "      <td>R7A</td>\n",
       "      <td>8.0</td>\n",
       "      <td>0.0</td>\n",
       "      <td>1.0</td>\n",
       "      <td>5.0</td>\n",
       "      <td>0.0</td>\n",
       "      <td>1.0</td>\n",
       "      <td>...</td>\n",
       "      <td>13600.0</td>\n",
       "      <td>150.00</td>\n",
       "      <td>0.0</td>\n",
       "      <td>0.0</td>\n",
       "      <td>4.00</td>\n",
       "      <td>0.0</td>\n",
       "      <td>1</td>\n",
       "      <td>1</td>\n",
       "      <td>5</td>\n",
       "      <td>2005.0</td>\n",
       "    </tr>\n",
       "    <tr>\n",
       "      <th>5952</th>\n",
       "      <td>761 ST NICHOLAS AVE</td>\n",
       "      <td>MN</td>\n",
       "      <td>10031.0</td>\n",
       "      <td>R6A</td>\n",
       "      <td>2.0</td>\n",
       "      <td>0.0</td>\n",
       "      <td>1.0</td>\n",
       "      <td>4.0</td>\n",
       "      <td>8.0</td>\n",
       "      <td>8.0</td>\n",
       "      <td>...</td>\n",
       "      <td>1800.0</td>\n",
       "      <td>92.33</td>\n",
       "      <td>5673.0</td>\n",
       "      <td>0.0</td>\n",
       "      <td>3.00</td>\n",
       "      <td>0.0</td>\n",
       "      <td>1</td>\n",
       "      <td>1</td>\n",
       "      <td>5</td>\n",
       "      <td>1980.0</td>\n",
       "    </tr>\n",
       "    <tr>\n",
       "      <th>6939</th>\n",
       "      <td>93 HAMILTON PL</td>\n",
       "      <td>MN</td>\n",
       "      <td>10031.0</td>\n",
       "      <td>R7A</td>\n",
       "      <td>2.0</td>\n",
       "      <td>0.0</td>\n",
       "      <td>1.0</td>\n",
       "      <td>6.0</td>\n",
       "      <td>23.0</td>\n",
       "      <td>23.0</td>\n",
       "      <td>...</td>\n",
       "      <td>5208.0</td>\n",
       "      <td>105.33</td>\n",
       "      <td>22608.0</td>\n",
       "      <td>0.0</td>\n",
       "      <td>4.00</td>\n",
       "      <td>0.0</td>\n",
       "      <td>1</td>\n",
       "      <td>1</td>\n",
       "      <td>5</td>\n",
       "      <td>1920.0</td>\n",
       "    </tr>\n",
       "  </tbody>\n",
       "</table>\n",
       "<p>5 rows × 35 columns</p>\n",
       "</div>"
      ],
      "text/plain": [
       "                  address borough  zipcode zonedist1  landuse  easements  \\\n",
       "3109          3300 BRDWAY      MN  10031.0      C6-2      6.0        0.0   \n",
       "3196      327 CONVENT AVE      MN  10031.0       R6A      1.0        0.0   \n",
       "4766         501 W 152 ST      MN  10031.0       R7A      8.0        0.0   \n",
       "5952  761 ST NICHOLAS AVE      MN  10031.0       R6A      2.0        0.0   \n",
       "6939       93 HAMILTON PL      MN  10031.0       R7A      2.0        0.0   \n",
       "\n",
       "      numbldgs  numfloors  unitsres  unitstotal  ...  lotarea  lotdepth  \\\n",
       "3109       1.0        2.0       0.0         3.0  ...  17984.0     90.00   \n",
       "3196       1.0        4.0       1.0         1.0  ...   2000.0    100.00   \n",
       "4766       1.0        5.0       0.0         1.0  ...  13600.0    150.00   \n",
       "5952       1.0        4.0       8.0         8.0  ...   1800.0     92.33   \n",
       "6939       1.0        6.0      23.0        23.0  ...   5208.0    105.33   \n",
       "\n",
       "      resarea  officearea  residfar  retailarea  heating  residential  \\\n",
       "3109      0.0         0.0      6.02     17984.0        1            0   \n",
       "3196   3596.0         0.0      3.00         0.0        1            1   \n",
       "4766      0.0         0.0      4.00         0.0        1            1   \n",
       "5952   5673.0         0.0      3.00         0.0        1            1   \n",
       "6939  22608.0         0.0      4.00         0.0        1            1   \n",
       "\n",
       "      borough_num  last_construction  \n",
       "3109            5             1989.0  \n",
       "3196            5             1899.0  \n",
       "4766            5             2005.0  \n",
       "5952            5             1980.0  \n",
       "6939            5             1920.0  \n",
       "\n",
       "[5 rows x 35 columns]"
      ]
     },
     "execution_count": 49,
     "metadata": {},
     "output_type": "execute_result"
    }
   ],
   "source": [
    "#I will create a small dataframe with only zipcode 10031 so it runs faster\n",
    "df_pluto[df_pluto.zipcode==10031]\n",
    "df_10031=df_pluto[df_pluto.zipcode==10031]\n",
    "df_10031.head(5)"
   ]
  },
  {
   "cell_type": "code",
   "execution_count": 50,
   "metadata": {},
   "outputs": [
    {
     "data": {
      "text/plain": [
       "Text(0, 0.5, 'Frequency')"
      ]
     },
     "execution_count": 50,
     "metadata": {},
     "output_type": "execute_result"
    },
    {
     "data": {
      "image/png": "[encoded data removed]",
      "text/plain": [
       "<Figure size 432x288 with 1 Axes>"
      ]
     },
     "metadata": {},
     "output_type": "display_data"
    }
   ],
   "source": [
    "pd.crosstab(df_10031.numfloors,df_10031.heating).plot(kind='bar')\n",
    "plt.title('Complaint Frequency by Number of Floors')\n",
    "plt.xlabel('Floors')\n",
    "plt.ylabel('Frequency')"
   ]
  },
  {
   "cell_type": "markdown",
   "metadata": {},
   "source": [
    "__It looks like there are more heating complaints as the number of floors grows.__\n",
    "__Number of floors looks like a relevant feature.__"
   ]
  },
  {
   "cell_type": "code",
   "execution_count": 51,
   "metadata": {},
   "outputs": [
    {
     "data": {
      "image/png": "[encoded data removed]",
      "text/plain": [
       "<Figure size 432x288 with 1 Axes>"
      ]
     },
     "metadata": {},
     "output_type": "display_data"
    }
   ],
   "source": [
    "ax = sns.kdeplot(df_10031[\"yearbuilt\"][df_10031.heating == 1], color=\"red\", shade=True)\n",
    "sns.kdeplot(df_10031[\"yearbuilt\"][df_10031.heating == 0], color=\"blue\", shade=True)\n",
    "plt.legend(['1', '0'])\n",
    "plt.title('Density Plot of Construction Year for Heating-No Heating Complaints')\n",
    "ax.set(xlabel='Building Construction Year')\n",
    "plt.show()"
   ]
  },
  {
   "cell_type": "markdown",
   "metadata": {},
   "source": [
    "__It looks like for a certain range of building construction years it is more 'probable' to have a heating complaint vs not to have it.__"
   ]
  },
  {
   "cell_type": "code",
   "execution_count": 52,
   "metadata": {},
   "outputs": [
    {
     "data": {
      "text/plain": [
       "Text(0, 0.5, 'Frequency')"
      ]
     },
     "execution_count": 52,
     "metadata": {},
     "output_type": "execute_result"
    },
    {
     "data": {
      "image/png": "[encoded data removed]",
      "text/plain": [
       "<Figure size 432x288 with 1 Axes>"
      ]
     },
     "metadata": {},
     "output_type": "display_data"
    }
   ],
   "source": [
    "pd.crosstab(df_10031.residfar,df_10031.heating).plot(kind='bar')\n",
    "plt.title('Maximum Allowable Residential Floor Area Ratio (FAR)')\n",
    "plt.xlabel('Residential FAR')\n",
    "plt.ylabel('Frequency')"
   ]
  },
  {
   "cell_type": "markdown",
   "metadata": {},
   "source": [
    "__The max residential area grows, the more 'probable' it is to have a heating complaint.__"
   ]
  },
  {
   "cell_type": "markdown",
   "metadata": {},
   "source": [
    "### (b) Correlation Table"
   ]
  },
  {
   "cell_type": "code",
   "execution_count": 53,
   "metadata": {},
   "outputs": [
    {
     "data": {
      "text/html": [
       "<div>\n",
       "<style scoped>\n",
       "    .dataframe tbody tr th:only-of-type {\n",
       "        vertical-align: middle;\n",
       "    }\n",
       "\n",
       "    .dataframe tbody tr th {\n",
       "        vertical-align: top;\n",
       "    }\n",
       "\n",
       "    .dataframe thead th {\n",
       "        text-align: right;\n",
       "    }\n",
       "</style>\n",
       "<table border=\"1\" class=\"dataframe\">\n",
       "  <thead>\n",
       "    <tr style=\"text-align: right;\">\n",
       "      <th></th>\n",
       "      <th>abs</th>\n",
       "      <th>heating</th>\n",
       "    </tr>\n",
       "  </thead>\n",
       "  <tbody>\n",
       "    <tr>\n",
       "      <th>residfar</th>\n",
       "      <td>0.277658</td>\n",
       "      <td>0.277658</td>\n",
       "    </tr>\n",
       "    <tr>\n",
       "      <th>facilfar</th>\n",
       "      <td>0.268505</td>\n",
       "      <td>0.268505</td>\n",
       "    </tr>\n",
       "    <tr>\n",
       "      <th>numfloors</th>\n",
       "      <td>0.220735</td>\n",
       "      <td>0.220735</td>\n",
       "    </tr>\n",
       "    <tr>\n",
       "      <th>bldgdepth</th>\n",
       "      <td>0.160847</td>\n",
       "      <td>0.160847</td>\n",
       "    </tr>\n",
       "    <tr>\n",
       "      <th>ycoord</th>\n",
       "      <td>0.145627</td>\n",
       "      <td>0.145627</td>\n",
       "    </tr>\n",
       "    <tr>\n",
       "      <th>borough_num</th>\n",
       "      <td>0.143222</td>\n",
       "      <td>0.143222</td>\n",
       "    </tr>\n",
       "    <tr>\n",
       "      <th>landuse</th>\n",
       "      <td>0.139820</td>\n",
       "      <td>0.139820</td>\n",
       "    </tr>\n",
       "    <tr>\n",
       "      <th>unitsres</th>\n",
       "      <td>0.119125</td>\n",
       "      <td>0.119125</td>\n",
       "    </tr>\n",
       "    <tr>\n",
       "      <th>unitstotal</th>\n",
       "      <td>0.113013</td>\n",
       "      <td>0.113013</td>\n",
       "    </tr>\n",
       "    <tr>\n",
       "      <th>resarea</th>\n",
       "      <td>0.112460</td>\n",
       "      <td>0.112460</td>\n",
       "    </tr>\n",
       "    <tr>\n",
       "      <th>yearalter1</th>\n",
       "      <td>0.110211</td>\n",
       "      <td>0.110211</td>\n",
       "    </tr>\n",
       "    <tr>\n",
       "      <th>yearbuilt</th>\n",
       "      <td>0.105325</td>\n",
       "      <td>-0.105325</td>\n",
       "    </tr>\n",
       "  </tbody>\n",
       "</table>\n",
       "</div>"
      ],
      "text/plain": [
       "                  abs   heating\n",
       "residfar     0.277658  0.277658\n",
       "facilfar     0.268505  0.268505\n",
       "numfloors    0.220735  0.220735\n",
       "bldgdepth    0.160847  0.160847\n",
       "ycoord       0.145627  0.145627\n",
       "borough_num  0.143222  0.143222\n",
       "landuse      0.139820  0.139820\n",
       "unitsres     0.119125  0.119125\n",
       "unitstotal   0.113013  0.113013\n",
       "resarea      0.112460  0.112460\n",
       "yearalter1   0.110211  0.110211\n",
       "yearbuilt    0.105325 -0.105325"
      ]
     },
     "execution_count": 53,
     "metadata": {},
     "output_type": "execute_result"
    }
   ],
   "source": [
    "df_correlation=df_pluto.corr()    #correlation table\n",
    "df_correlation['abs'] = df_correlation['heating'].abs() #new column with absolute value of heating column\n",
    "df_correlation=df_correlation[df_correlation.heating!=1]\n",
    "df_correlation.sort_values(by=['abs'],ascending=False,inplace=True) #sorting by abs(correlation number)\n",
    "df_correlation=df_correlation[['abs','heating']]   #just keeping the heating column and the abs value\n",
    "df_correlation.head(12)"
   ]
  },
  {
   "cell_type": "markdown",
   "metadata": {},
   "source": [
    "__I don't see a very strong linear relationship between any variable but the columns that 'explain' more the addresses with heating complaints are:__\n",
    " - __residfar__: Maximum Allowable Residential Floor Area Ratio (FAR)\n",
    " - __facilfar__: The Maximum Allowable Facility Floor Area Ratio (FAR)\n",
    " - __numfloors__: Floors in the tallest building on the tax lot.\n",
    " - __bldgdepth__: The building’s depth, which is the effective perpendicular distance, measured in feet.<br><br>\n",
    "*Features such as 'yearbuilt' didn't had a strong relationship as I though.*"
   ]
  },
  {
   "cell_type": "markdown",
   "metadata": {},
   "source": [
    "### (c) Recursive Feature Elimination (RFE)"
   ]
  },
  {
   "cell_type": "code",
   "execution_count": 54,
   "metadata": {},
   "outputs": [],
   "source": [
    "from sklearn.feature_selection import RFE\n",
    "from sklearn.linear_model import LogisticRegression\n",
    "from sklearn.model_selection import train_test_split\n",
    "from sklearn.metrics import accuracy_score"
   ]
  },
  {
   "cell_type": "markdown",
   "metadata": {},
   "source": [
    "In order to speed up the process I will be using only 5% of the dataset (choosing it randomly).\n",
    "If you want to run it in your computer it is feasible, in mine it just takes a couple of minutes."
   ]
  },
  {
   "cell_type": "code",
   "execution_count": 55,
   "metadata": {},
   "outputs": [
    {
     "name": "stdout",
     "output_type": "stream",
     "text": [
      "number of test samples : 16084\n",
      "number of training samples: 24125\n"
     ]
    }
   ],
   "source": [
    "df_pluto['rand']=np.random.rand(df_pluto.shape[0],1)   #create random column with values between 0 and 1.\n",
    "df_filter=df_pluto[df_pluto.rand<=0.05]   #This is how I control the amount of data. In this case 5%.\n",
    "y_data = df_filter['heating']\n",
    "x_data=df_filter.copy()\n",
    "x_data.drop(['heating','address','borough','zonedist1','rand'], axis=1, inplace=True)   #remove non-numeric columns\n",
    "x_train, x_test, y_train, y_test = train_test_split(x_data, y_data, test_size=0.4, random_state=0) \n",
    "print(\"number of test samples :\", x_test.shape[0])\n",
    "print(\"number of training samples:\",x_train.shape[0])"
   ]
  },
  {
   "cell_type": "code",
   "execution_count": 56,
   "metadata": {},
   "outputs": [],
   "source": [
    "lr = LogisticRegression(solver='liblinear')\n",
    "rfe = RFE(lr,1) #selecting 1 variable to see which one is more important.\n",
    "rfe = rfe.fit(x_train, y_train)"
   ]
  },
  {
   "cell_type": "code",
   "execution_count": 57,
   "metadata": {},
   "outputs": [
    {
     "name": "stdout",
     "output_type": "stream",
     "text": [
      "[15  8 30 25  4  6  7 26 22 29 27 11 13 14 21 20 23  9  1 28  3 17 18 10\n",
      " 19 24  2 16 31  5 12]\n",
      "\n",
      "Best feature: ['builtfar']\n"
     ]
    }
   ],
   "source": [
    "print(rfe.ranking_)  #it gives the ranking of all the variables\n",
    "predictions = rfe.predict(x_test)\n",
    "accuracy = accuracy_score(y_test, predictions)\n",
    "print('\\nBest feature: %s' % list(x_test.columns[rfe.support_]))"
   ]
  },
  {
   "cell_type": "markdown",
   "metadata": {},
   "source": [
    "builtfar, according to the pluto dictionary, built floor area ratio."
   ]
  },
  {
   "cell_type": "code",
   "execution_count": 58,
   "metadata": {},
   "outputs": [
    {
     "name": "stdout",
     "output_type": "stream",
     "text": [
      "Ranking of features according to RFE - Recursive Feature Elimination\n"
     ]
    },
    {
     "data": {
      "text/plain": [
       "['01 - builtfar',\n",
       " '02 - residfar',\n",
       " '03 - facilfar',\n",
       " '04 - numfloors',\n",
       " '05 - borough_num',\n",
       " '06 - unitsres',\n",
       " '07 - unitstotal',\n",
       " '08 - landuse',\n",
       " '09 - bldgdepth',\n",
       " '10 - lotdepth']"
      ]
     },
     "execution_count": 58,
     "metadata": {},
     "output_type": "execute_result"
    }
   ],
   "source": [
    "#see all the rankings:\n",
    "mapped = zip(x_train.columns, rfe.ranking_)\n",
    "mapped=list(mapped)\n",
    "list1=list()\n",
    "for i in mapped:\n",
    "    if i[1]<10:\n",
    "        list1.append('0' + str(i[1]) + ' - ' +  i[0])\n",
    "    else:\n",
    "        list1.append(str(i[1]) + ' - ' +  i[0])\n",
    "list1.sort()\n",
    "print('Ranking of features according to RFE - Recursive Feature Elimination')\n",
    "list1[0:10]"
   ]
  },
  {
   "cell_type": "markdown",
   "metadata": {},
   "source": [
    "According to RFE, this are the top 10 features. It makes sense since much has to do with the amount of residential or physical area and also the year it was constructed."
   ]
  },
  {
   "cell_type": "markdown",
   "metadata": {},
   "source": [
    "### (d) Random Forest Feature Importance"
   ]
  },
  {
   "cell_type": "code",
   "execution_count": 59,
   "metadata": {},
   "outputs": [],
   "source": [
    "from sklearn.ensemble import RandomForestClassifier"
   ]
  },
  {
   "cell_type": "code",
   "execution_count": 60,
   "metadata": {},
   "outputs": [
    {
     "name": "stdout",
     "output_type": "stream",
     "text": [
      "number of test samples : 16084\n",
      "number of training samples: 24125\n"
     ]
    }
   ],
   "source": [
    "df_filter=df_pluto[df_pluto.rand<=0.05]   #This is how I control the amount of data. In this case 5%.\n",
    "y_data = df_filter['heating']\n",
    "x_data=df_filter.copy()\n",
    "x_data.drop(['heating','address','borough','zonedist1','rand'], axis=1, inplace=True)   #remove non-numeric columns\n",
    "x_train, x_test, y_train, y_test = train_test_split(x_data, y_data, test_size=0.4, random_state=0) \n",
    "print(\"number of test samples :\", x_test.shape[0])\n",
    "print(\"number of training samples:\",x_train.shape[0])"
   ]
  },
  {
   "cell_type": "code",
   "execution_count": 61,
   "metadata": {},
   "outputs": [
    {
     "name": "stderr",
     "output_type": "stream",
     "text": [
      "//anaconda3/lib/python3.7/site-packages/sklearn/ensemble/forest.py:245: FutureWarning: The default value of n_estimators will change from 10 in version 0.20 to 100 in 0.22.\n",
      "  \"10 in version 0.20 to 100 in 0.22.\", FutureWarning)\n"
     ]
    },
    {
     "data": {
      "text/plain": [
       "RandomForestClassifier(bootstrap=True, class_weight=None, criterion='gini',\n",
       "                       max_depth=None, max_features='auto', max_leaf_nodes=None,\n",
       "                       min_impurity_decrease=0.0, min_impurity_split=None,\n",
       "                       min_samples_leaf=1, min_samples_split=2,\n",
       "                       min_weight_fraction_leaf=0.0, n_estimators=10,\n",
       "                       n_jobs=None, oob_score=False, random_state=None,\n",
       "                       verbose=0, warm_start=False)"
      ]
     },
     "execution_count": 61,
     "metadata": {},
     "output_type": "execute_result"
    }
   ],
   "source": [
    "clf = RandomForestClassifier()\n",
    "clf.fit(x_train, y_train)"
   ]
  },
  {
   "cell_type": "code",
   "execution_count": 62,
   "metadata": {},
   "outputs": [
    {
     "name": "stdout",
     "output_type": "stream",
     "text": [
      "\n",
      "Top 10 Features According to this Method\n"
     ]
    },
    {
     "data": {
      "text/html": [
       "<div>\n",
       "<style scoped>\n",
       "    .dataframe tbody tr th:only-of-type {\n",
       "        vertical-align: middle;\n",
       "    }\n",
       "\n",
       "    .dataframe tbody tr th {\n",
       "        vertical-align: top;\n",
       "    }\n",
       "\n",
       "    .dataframe thead th {\n",
       "        text-align: right;\n",
       "    }\n",
       "</style>\n",
       "<table border=\"1\" class=\"dataframe\">\n",
       "  <thead>\n",
       "    <tr style=\"text-align: right;\">\n",
       "      <th></th>\n",
       "      <th>total</th>\n",
       "      <th>variable</th>\n",
       "    </tr>\n",
       "  </thead>\n",
       "  <tbody>\n",
       "    <tr>\n",
       "      <th>0</th>\n",
       "      <td>0.097248</td>\n",
       "      <td>unitstotal</td>\n",
       "    </tr>\n",
       "    <tr>\n",
       "      <th>1</th>\n",
       "      <td>0.068690</td>\n",
       "      <td>resarea</td>\n",
       "    </tr>\n",
       "    <tr>\n",
       "      <th>2</th>\n",
       "      <td>0.065177</td>\n",
       "      <td>xcoord</td>\n",
       "    </tr>\n",
       "    <tr>\n",
       "      <th>3</th>\n",
       "      <td>0.064392</td>\n",
       "      <td>ycoord</td>\n",
       "    </tr>\n",
       "    <tr>\n",
       "      <th>4</th>\n",
       "      <td>0.060720</td>\n",
       "      <td>assessland</td>\n",
       "    </tr>\n",
       "    <tr>\n",
       "      <th>5</th>\n",
       "      <td>0.060239</td>\n",
       "      <td>assesstot</td>\n",
       "    </tr>\n",
       "    <tr>\n",
       "      <th>6</th>\n",
       "      <td>0.057849</td>\n",
       "      <td>builtfar</td>\n",
       "    </tr>\n",
       "    <tr>\n",
       "      <th>7</th>\n",
       "      <td>0.053549</td>\n",
       "      <td>bldgdepth</td>\n",
       "    </tr>\n",
       "    <tr>\n",
       "      <th>8</th>\n",
       "      <td>0.051390</td>\n",
       "      <td>lot</td>\n",
       "    </tr>\n",
       "    <tr>\n",
       "      <th>9</th>\n",
       "      <td>0.048309</td>\n",
       "      <td>bldgarea</td>\n",
       "    </tr>\n",
       "  </tbody>\n",
       "</table>\n",
       "</div>"
      ],
      "text/plain": [
       "      total    variable\n",
       "0  0.097248  unitstotal\n",
       "1  0.068690     resarea\n",
       "2  0.065177      xcoord\n",
       "3  0.064392      ycoord\n",
       "4  0.060720  assessland\n",
       "5  0.060239   assesstot\n",
       "6  0.057849    builtfar\n",
       "7  0.053549   bldgdepth\n",
       "8  0.051390         lot\n",
       "9  0.048309    bldgarea"
      ]
     },
     "execution_count": 62,
     "metadata": {},
     "output_type": "execute_result"
    }
   ],
   "source": [
    "a=clf.feature_importances_\n",
    "a=pd.Series(a)\n",
    "a=a.to_frame()\n",
    "a['variable']=pd.Series(x_train.columns)\n",
    "a=a.sort_values(by=[0],ascending=False)\n",
    "a.rename(columns={0:'total'},inplace=True)\n",
    "a.reset_index(drop=True,inplace=True) #resetting index\n",
    "print('\\nTop 10 Features According to this Method')\n",
    "a.head(10)"
   ]
  },
  {
   "cell_type": "markdown",
   "metadata": {},
   "source": [
    "### (e) XGBoost Feature Importance"
   ]
  },
  {
   "cell_type": "code",
   "execution_count": 63,
   "metadata": {},
   "outputs": [],
   "source": [
    "from xgboost import XGBClassifier"
   ]
  },
  {
   "cell_type": "code",
   "execution_count": 64,
   "metadata": {},
   "outputs": [
    {
     "name": "stdout",
     "output_type": "stream",
     "text": [
      "number of test samples : 8080\n",
      "number of training samples: 12120\n"
     ]
    }
   ],
   "source": [
    "#same as before, I will be using a small amount of the dataframe to speedup the results\n",
    "df_filter=df_pluto[df_pluto.rand<=0.025]   #This is how I control the amount of data. In this case 2.5%.\n",
    "y_data = df_filter['heating']\n",
    "x_data=df_filter.copy()\n",
    "x_data.drop(['heating','address','borough','zonedist1','rand'], axis=1, inplace=True)   #remove non-numeric columns\n",
    "x_train, x_test, y_train, y_test = train_test_split(x_data, y_data, test_size=0.4, random_state=0) \n",
    "print(\"number of test samples :\", x_test.shape[0])\n",
    "print(\"number of training samples:\",x_train.shape[0])"
   ]
  },
  {
   "cell_type": "code",
   "execution_count": 65,
   "metadata": {},
   "outputs": [
    {
     "data": {
      "text/plain": [
       "XGBClassifier(base_score=0.5, booster='gbtree', colsample_bylevel=1,\n",
       "              colsample_bynode=1, colsample_bytree=1, gamma=0,\n",
       "              learning_rate=0.1, max_delta_step=0, max_depth=3,\n",
       "              min_child_weight=1, missing=None, n_estimators=100, n_jobs=1,\n",
       "              nthread=None, objective='binary:logistic', random_state=0,\n",
       "              reg_alpha=0, reg_lambda=1, scale_pos_weight=1, seed=None,\n",
       "              silent=None, subsample=1, verbosity=1)"
      ]
     },
     "execution_count": 65,
     "metadata": {},
     "output_type": "execute_result"
    }
   ],
   "source": [
    "model = XGBClassifier()\n",
    "model.fit(x_train, y_train)"
   ]
  },
  {
   "cell_type": "code",
   "execution_count": 66,
   "metadata": {},
   "outputs": [
    {
     "data": {
      "text/html": [
       "<div>\n",
       "<style scoped>\n",
       "    .dataframe tbody tr th:only-of-type {\n",
       "        vertical-align: middle;\n",
       "    }\n",
       "\n",
       "    .dataframe tbody tr th {\n",
       "        vertical-align: top;\n",
       "    }\n",
       "\n",
       "    .dataframe thead th {\n",
       "        text-align: right;\n",
       "    }\n",
       "</style>\n",
       "<table border=\"1\" class=\"dataframe\">\n",
       "  <thead>\n",
       "    <tr style=\"text-align: right;\">\n",
       "      <th></th>\n",
       "      <th>total</th>\n",
       "      <th>variable</th>\n",
       "    </tr>\n",
       "  </thead>\n",
       "  <tbody>\n",
       "    <tr>\n",
       "      <th>0</th>\n",
       "      <td>0.313997</td>\n",
       "      <td>unitsres</td>\n",
       "    </tr>\n",
       "    <tr>\n",
       "      <th>1</th>\n",
       "      <td>0.137877</td>\n",
       "      <td>unitstotal</td>\n",
       "    </tr>\n",
       "    <tr>\n",
       "      <th>2</th>\n",
       "      <td>0.070030</td>\n",
       "      <td>residfar</td>\n",
       "    </tr>\n",
       "    <tr>\n",
       "      <th>3</th>\n",
       "      <td>0.046369</td>\n",
       "      <td>builtfar</td>\n",
       "    </tr>\n",
       "    <tr>\n",
       "      <th>4</th>\n",
       "      <td>0.035025</td>\n",
       "      <td>bldgdepth</td>\n",
       "    </tr>\n",
       "    <tr>\n",
       "      <th>5</th>\n",
       "      <td>0.031050</td>\n",
       "      <td>xcoord</td>\n",
       "    </tr>\n",
       "    <tr>\n",
       "      <th>6</th>\n",
       "      <td>0.029945</td>\n",
       "      <td>borough_num</td>\n",
       "    </tr>\n",
       "    <tr>\n",
       "      <th>7</th>\n",
       "      <td>0.027258</td>\n",
       "      <td>ycoord</td>\n",
       "    </tr>\n",
       "    <tr>\n",
       "      <th>8</th>\n",
       "      <td>0.024742</td>\n",
       "      <td>assesstot</td>\n",
       "    </tr>\n",
       "    <tr>\n",
       "      <th>9</th>\n",
       "      <td>0.022918</td>\n",
       "      <td>zipcode</td>\n",
       "    </tr>\n",
       "  </tbody>\n",
       "</table>\n",
       "</div>"
      ],
      "text/plain": [
       "      total     variable\n",
       "0  0.313997     unitsres\n",
       "1  0.137877   unitstotal\n",
       "2  0.070030     residfar\n",
       "3  0.046369     builtfar\n",
       "4  0.035025    bldgdepth\n",
       "5  0.031050       xcoord\n",
       "6  0.029945  borough_num\n",
       "7  0.027258       ycoord\n",
       "8  0.024742    assesstot\n",
       "9  0.022918      zipcode"
      ]
     },
     "execution_count": 66,
     "metadata": {},
     "output_type": "execute_result"
    }
   ],
   "source": [
    "a=model.feature_importances_\n",
    "a=pd.Series(a)\n",
    "a=a.to_frame()\n",
    "#print(a)\n",
    "a['variable']=pd.Series(x_train.columns)\n",
    "a.sort_values(by=[0],ascending=False,inplace=True)\n",
    "#print(a)\n",
    "a.rename(columns={0:'total'},inplace=True)\n",
    "a.reset_index(drop=True,inplace=True) #resetting index\n",
    "a.head(10)"
   ]
  },
  {
   "cell_type": "code",
   "execution_count": 67,
   "metadata": {},
   "outputs": [
    {
     "data": {
      "image/png": "[encoded data removed]",
      "text/plain": [
       "<Figure size 432x288 with 1 Axes>"
      ]
     },
     "metadata": {},
     "output_type": "display_data"
    }
   ],
   "source": [
    "a.sort_values('total', ascending=True, inplace=True)\n",
    "w=list(a['variable']) \n",
    "n=list(a['total']) \n",
    "plt.barh(range(len(w)),n) \n",
    "plt.yticks(range(len(w)),w) \n",
    "plt.show() "
   ]
  },
  {
   "cell_type": "markdown",
   "metadata": {},
   "source": [
    "__I ranked the top 10 features of each method (Corr(),RFE,Random Forest and XLBoost) and made a final list of features. I ranked them in the number of times they appeared in the 4 different ratings.__"
   ]
  },
  {
   "attachments": {
    "image.png": {
     "image/png": "[encoded data removed]"
    }
   },
   "cell_type": "markdown",
   "metadata": {},
   "source": [
    "![image.png](attachment:image.png)"
   ]
  },
  {
   "cell_type": "markdown",
   "metadata": {},
   "source": [
    "#### ANSWER: There are obvious relationships between heating complaints and some of the house characteristics. I can rank them to the following list:<br>\n",
    "__Top Features - # of Times they Appeared in the 4 Different Rankings__<br>\n",
    "unitsres (appeared 4 times)<br>\n",
    "unitstotal (appeared 3 times)<br>\n",
    "ycoord (appeared 3 times)<br>\n",
    "assessland (appeared 2 times)<br>\n",
    "assesstot (appeared 2 times)<br>\n",
    "bldgdepth (appeared 2 times)<br>\n",
    "builtfar (appeared 2 times)<br>\n",
    "facilfar (appeared 2 times)<br>\n",
    "lot (appeared 2 times)<br>\n",
    "resarea (appeared 2 times)<br>\n",
    "xcoord (appeared 2 times)<br>\n",
    "yearbuilt (appeared 2 times)"
   ]
  },
  {
   "cell_type": "markdown",
   "metadata": {
    "collapsed": true
   },
   "source": [
    "### (4) Build a model that can predictive Heating complaints based on house/building characteristics<br>"
   ]
  },
  {
   "cell_type": "code",
   "execution_count": 68,
   "metadata": {},
   "outputs": [],
   "source": [
    "from sklearn.model_selection import train_test_split\n",
    "from sklearn.linear_model import LogisticRegression\n",
    "from sklearn.metrics import accuracy_score\n",
    "from sklearn.metrics import confusion_matrix\n",
    "from sklearn.model_selection import cross_val_score \n",
    "from sklearn import metrics\n",
    "from sklearn.neighbors import KNeighborsClassifier\n",
    "from sklearn import svm\n",
    "from sklearn.metrics import f1_score\n",
    "import itertools"
   ]
  },
  {
   "cell_type": "code",
   "execution_count": 69,
   "metadata": {},
   "outputs": [],
   "source": [
    "#creating dataframes for precition/fit\n",
    "y_data = df_pluto['heating']\n",
    "#keeping only the variables that appeared in any of the rankings of previous question.\n",
    "x_data=df_pluto[['unitsres','unitstotal','ycoord','assessland','assesstot','bldgdepth','builtfar','facilfar','lot','resarea','xcoord','yearbuilt','bldgarea','borough_num','landuse','last_construction','lotarea','numbldgs','numfloors','lotdepth','residfar','yearalter1','yearalter2','zipcode']]"
   ]
  },
  {
   "cell_type": "code",
   "execution_count": 70,
   "metadata": {},
   "outputs": [
    {
     "name": "stdout",
     "output_type": "stream",
     "text": [
      "number of test samples : 319308\n",
      "number of training samples: 478961\n"
     ]
    }
   ],
   "source": [
    "x_train, x_test, y_train, y_test = train_test_split(x_data, y_data, test_size=0.4, random_state=0) \n",
    "print(\"number of test samples :\", x_test.shape[0])\n",
    "print(\"number of training samples:\",x_train.shape[0])"
   ]
  },
  {
   "cell_type": "markdown",
   "metadata": {},
   "source": [
    "### Predictive Models\n",
    " - (a) Logistic Regression\n",
    " - (b) SVM (Support Vector Machine)"
   ]
  },
  {
   "cell_type": "markdown",
   "metadata": {},
   "source": [
    "### (a) Logistic Regression\n",
    "__I will be using 'Logistic Regression' because it is a good classification option when the target value is True or False or 1's and 0's.__"
   ]
  },
  {
   "cell_type": "code",
   "execution_count": 71,
   "metadata": {},
   "outputs": [
    {
     "data": {
      "text/plain": [
       "LogisticRegression(C=1.0, class_weight=None, dual=False, fit_intercept=True,\n",
       "                   intercept_scaling=1, l1_ratio=None, max_iter=100,\n",
       "                   multi_class='warn', n_jobs=None, penalty='l2',\n",
       "                   random_state=None, solver='liblinear', tol=0.0001, verbose=0,\n",
       "                   warm_start=False)"
      ]
     },
     "execution_count": 71,
     "metadata": {},
     "output_type": "execute_result"
    }
   ],
   "source": [
    "lr = LogisticRegression(solver='liblinear') \n",
    "lr.fit(x_train, y_train)"
   ]
  },
  {
   "cell_type": "code",
   "execution_count": 72,
   "metadata": {},
   "outputs": [
    {
     "data": {
      "text/plain": [
       "0.8709553158705701"
      ]
     },
     "execution_count": 72,
     "metadata": {},
     "output_type": "execute_result"
    }
   ],
   "source": [
    "#Evaluating accuracy:\n",
    "predictions = lr.predict(x_test)\n",
    "accuracy = accuracy_score(y_test, predictions)\n",
    "accuracy"
   ]
  },
  {
   "cell_type": "markdown",
   "metadata": {},
   "source": [
    "__The 0.87 value seems good (closer to 1 the better).__"
   ]
  },
  {
   "cell_type": "code",
   "execution_count": 73,
   "metadata": {},
   "outputs": [
    {
     "data": {
      "text/html": [
       "<div>\n",
       "<style scoped>\n",
       "    .dataframe tbody tr th:only-of-type {\n",
       "        vertical-align: middle;\n",
       "    }\n",
       "\n",
       "    .dataframe tbody tr th {\n",
       "        vertical-align: top;\n",
       "    }\n",
       "\n",
       "    .dataframe thead th {\n",
       "        text-align: right;\n",
       "    }\n",
       "</style>\n",
       "<table border=\"1\" class=\"dataframe\">\n",
       "  <thead>\n",
       "    <tr style=\"text-align: right;\">\n",
       "      <th></th>\n",
       "      <th>Heating</th>\n",
       "      <th>No-Heating</th>\n",
       "    </tr>\n",
       "  </thead>\n",
       "  <tbody>\n",
       "    <tr>\n",
       "      <th>Heating</th>\n",
       "      <td>275983</td>\n",
       "      <td>854</td>\n",
       "    </tr>\n",
       "    <tr>\n",
       "      <th>No-Heating</th>\n",
       "      <td>40351</td>\n",
       "      <td>2120</td>\n",
       "    </tr>\n",
       "  </tbody>\n",
       "</table>\n",
       "</div>"
      ],
      "text/plain": [
       "            Heating  No-Heating\n",
       "Heating      275983         854\n",
       "No-Heating    40351        2120"
      ]
     },
     "execution_count": 73,
     "metadata": {},
     "output_type": "execute_result"
    }
   ],
   "source": [
    "#confusion matrix\n",
    "conf_matrix = confusion_matrix(y_test, predictions)\n",
    "pd.DataFrame(conf_matrix, columns=['Heating', 'No-Heating'], index=[['Heating', 'No-Heating']])"
   ]
  },
  {
   "cell_type": "code",
   "execution_count": 74,
   "metadata": {},
   "outputs": [
    {
     "name": "stdout",
     "output_type": "stream",
     "text": [
      "Confusion Matrix with Percents\n"
     ]
    },
    {
     "data": {
      "text/html": [
       "<div>\n",
       "<style scoped>\n",
       "    .dataframe tbody tr th:only-of-type {\n",
       "        vertical-align: middle;\n",
       "    }\n",
       "\n",
       "    .dataframe tbody tr th {\n",
       "        vertical-align: top;\n",
       "    }\n",
       "\n",
       "    .dataframe thead th {\n",
       "        text-align: right;\n",
       "    }\n",
       "</style>\n",
       "<table border=\"1\" class=\"dataframe\">\n",
       "  <thead>\n",
       "    <tr style=\"text-align: right;\">\n",
       "      <th></th>\n",
       "      <th>Heating</th>\n",
       "      <th>No-Heating</th>\n",
       "    </tr>\n",
       "  </thead>\n",
       "  <tbody>\n",
       "    <tr>\n",
       "      <th>Heating</th>\n",
       "      <td>86.431596</td>\n",
       "      <td>0.267453</td>\n",
       "    </tr>\n",
       "    <tr>\n",
       "      <th>No-Heating</th>\n",
       "      <td>12.637015</td>\n",
       "      <td>0.663936</td>\n",
       "    </tr>\n",
       "  </tbody>\n",
       "</table>\n",
       "</div>"
      ],
      "text/plain": [
       "              Heating  No-Heating\n",
       "Heating     86.431596    0.267453\n",
       "No-Heating  12.637015    0.663936"
      ]
     },
     "execution_count": 74,
     "metadata": {},
     "output_type": "execute_result"
    }
   ],
   "source": [
    "#same matrix as before but as a percentage, it seems better to read.\n",
    "print('Confusion Matrix with Percents')\n",
    "pd.DataFrame((conf_matrix/y_test.shape[0])*100, columns=['Heating', 'No-Heating'], index=[['Heating', 'No-Heating']])"
   ]
  },
  {
   "cell_type": "markdown",
   "metadata": {},
   "source": [
    "__With cross validation we can make an out-of-sample testing to validate the accuracy results.__"
   ]
  },
  {
   "cell_type": "code",
   "execution_count": 75,
   "metadata": {},
   "outputs": [
    {
     "data": {
      "text/plain": [
       "0.871228870765896"
      ]
     },
     "execution_count": 75,
     "metadata": {},
     "output_type": "execute_result"
    }
   ],
   "source": [
    "#double checking with cross validation (5 folds)\n",
    "scores = cross_val_score(lr, x_data, y_data, cv=5) \n",
    "np.mean(scores)"
   ]
  },
  {
   "cell_type": "markdown",
   "metadata": {},
   "source": [
    "__Cross validation seems in line with accuracy measured before.__"
   ]
  },
  {
   "cell_type": "markdown",
   "metadata": {},
   "source": [
    "### (b) SVM - Support Vector Machine"
   ]
  },
  {
   "cell_type": "code",
   "execution_count": 79,
   "metadata": {},
   "outputs": [
    {
     "name": "stdout",
     "output_type": "stream",
     "text": [
      "number of test samples : 60\n",
      "number of training samples: 89\n"
     ]
    }
   ],
   "source": [
    "df_filter=df_pluto[df_pluto.rand<=0.0002]\n",
    "y_data = df_filter['heating']\n",
    "x_data=df_filter.copy()\n",
    "x_data=df_filter[['unitsres','unitstotal','ycoord','assessland','assesstot','bldgdepth','builtfar','facilfar','lot','resarea','xcoord','yearbuilt']]\n",
    "x_train, x_test, y_train, y_test = train_test_split(x_data, y_data, test_size=0.4, random_state=0) \n",
    "print(\"number of test samples :\", x_test.shape[0])\n",
    "print(\"number of training samples:\",x_train.shape[0])"
   ]
  },
  {
   "cell_type": "code",
   "execution_count": 80,
   "metadata": {},
   "outputs": [
    {
     "data": {
      "text/plain": [
       "SVC(C=1.0, cache_size=200, class_weight=None, coef0=0.0,\n",
       "    decision_function_shape='ovr', degree=3, gamma='auto_deprecated',\n",
       "    kernel='linear', max_iter=-1, probability=False, random_state=None,\n",
       "    shrinking=True, tol=0.001, verbose=False)"
      ]
     },
     "execution_count": 80,
     "metadata": {},
     "output_type": "execute_result"
    }
   ],
   "source": [
    "clf = svm.SVC(kernel='linear')\n",
    "clf.fit(x_train, y_train)"
   ]
  },
  {
   "cell_type": "code",
   "execution_count": 81,
   "metadata": {},
   "outputs": [
    {
     "name": "stdout",
     "output_type": "stream",
     "text": [
      "f1 score: 0.7407407407407408\n",
      "Accuracy: 0.8\n"
     ]
    }
   ],
   "source": [
    "yhat = clf.predict(x_test)\n",
    "print('f1 score:',f1_score(y_test, yhat, average='weighted')) \n",
    "accuracy = accuracy_score(y_test, yhat)\n",
    "print('Accuracy:',accuracy)"
   ]
  },
  {
   "cell_type": "markdown",
   "metadata": {},
   "source": [
    "#### Yes, we can use Logistic Regression for faster results or K Nearest Neighbors since they work faster than SVM with almost the same results."
   ]
  }
 ],
 "metadata": {
  "kernelspec": {
   "display_name": "Python 3",
   "language": "python",
   "name": "python3"
  },
  "language_info": {
   "codemirror_mode": {
    "name": "ipython",
    "version": 3
   },
   "file_extension": ".py",
   "mimetype": "text/x-python",
   "name": "python",
   "nbconvert_exporter": "python",
   "pygments_lexer": "ipython3",
   "version": "3.7.3"
  }
 },
 "nbformat": 4,
 "nbformat_minor": 1
}
